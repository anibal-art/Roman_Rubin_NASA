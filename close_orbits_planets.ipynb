{
 "cells": [
  {
   "cell_type": "code",
   "execution_count": 1,
   "id": "7981c0e7-7bf9-4b77-aaba-d52663a150a0",
   "metadata": {},
   "outputs": [],
   "source": [
    "# import numpy as np\n",
    "# import matplotlib.pyplot as plt\n",
    "# from pyLIMA import event\n",
    "# from pyLIMA import telescopes\n",
    "# from pyLIMA.models import PSPL_model\n",
    "# from pyLIMA.models import FSPL_model\n",
    "# from pyLIMA.models import FSPLarge_model\n",
    "# from pyLIMA.models import PSBL_model\n",
    "\n",
    "# from pyLIMA.models import FSBL_model\n",
    "# # from pyLIMA.models import DSPL_model\n",
    "# #in v2 we need to separately call plots.\n",
    "# from pyLIMA.outputs import pyLIMA_plots\n",
    "# # import ipywidgets as widgets\n",
    "# # from ipywidgets import interactive,interact, HBox, Layout,VBox\n",
    "# from IPython.display import display"
   ]
  },
  {
   "cell_type": "code",
   "execution_count": 4,
   "id": "62dfd5e9-9799-4491-93d0-78b86e5a0c00",
   "metadata": {},
   "outputs": [
    {
     "name": "stdout",
     "output_type": "stream",
     "text": [
      "OrderedDict([('t0', 2457777.777), ('u0', 0.3), ('tE', 100), ('rho', 0.001), ('separation', 0.1), ('mass_ratio', 0.000125), ('alpha', 2), ('fsource_Simulation', None), ('fblend_Simulation', None), ('v_para', 1000), ('v_perp', 600), ('v_radial', 600)])\n"
     ]
    },
    {
     "data": {
      "image/png": "[encoded data removed]",
      "text/plain": [
       "<Figure size 640x480 with 1 Axes>"
      ]
     },
     "metadata": {},
     "output_type": "display_data"
    }
   ],
   "source": [
    "\n",
    "import numpy as np\n",
    "import matplotlib.pyplot as plt\n",
    "from pyLIMA import event\n",
    "from pyLIMA import telescopes\n",
    "from pyLIMA.models import USBL_model\n",
    "\n",
    "from pyLIMA.models import PSBL_model\n",
    "\n",
    "from collections import OrderedDict\n",
    "\n",
    "simulated_event = event.Event(ra = 170, dec=-70)\n",
    "simulated_event.name = 'Simulated'   \n",
    "t0guess = 2457777.777\n",
    "\n",
    "time_sim = np.linspace(t0guess-200,t0guess+200,50000)      \n",
    "lightcurve_sim = np.c_[time_sim,[19.] * len(time_sim),[0.01] * len(time_sim)]\n",
    "\n",
    "telescope = telescopes.Telescope(name='Simulation',\n",
    "                                 camera_filter='I',\n",
    "                                 lightcurve = lightcurve_sim.astype(float),\n",
    "                                 lightcurve_names = ['time','mag','err_mag'],\n",
    "                                 lightcurve_units = ['JD','mag','err_mag'],\n",
    "                                     )\n",
    "\n",
    "simulated_event.telescopes.append(telescope)\n",
    "t0=t0guess\n",
    "\n",
    "u0=0.3\n",
    "tE=100\n",
    "rho=0.001\n",
    "s=0.1\n",
    "q=1.25e-4\n",
    "alpha=2\n",
    "v_para = 1000\n",
    "v_perp = 600\n",
    "v_radial = 600\n",
    "\n",
    "\n",
    "usbl = USBL_model.USBLmodel(simulated_event, parallax=['None',0], orbital_motion=['2D', t0])\n",
    "\n",
    "# Initialize the OrderedDict\n",
    "pyLIMA_parameters = OrderedDict([\n",
    "    ('t0', t0),\n",
    "    ('u0', u0),\n",
    "    ('tE', tE),\n",
    "    ('rho', rho),\n",
    "    ('separation', s),\n",
    "    ('mass_ratio', q),\n",
    "    ('alpha', alpha),\n",
    "    ('fsource_Simulation', None),\n",
    "    ('fblend_Simulation', None)\n",
    "])\n",
    "pyLIMA_parameters['v_para'] = v_para\n",
    "pyLIMA_parameters['v_perp'] = v_perp\n",
    "pyLIMA_parameters['v_radial'] = v_radial\n",
    "\n",
    "print(pyLIMA_parameters)\n",
    "\n",
    "magnification = usbl.model_magnification(telescope, pyLIMA_parameters)\n",
    "magnification\n",
    "log_magnification = np.log(magnification-1)\n",
    "# %matplotlib widget\n",
    "plt.plot(time_sim,log_magnification,\"r\",label=\"USBL model\")\n",
    "plt.xlim(t0-tE,t0+tE)\n",
    "\n",
    "plt.xlabel(\"Time [MJD days]\")\n",
    "plt.ylabel(\"$LOG(A-1)$\")\n",
    "plt.legend()\n",
    "plt.show()       \n",
    "plt.close()"
   ]
  },
  {
   "cell_type": "code",
   "execution_count": 5,
   "id": "3dc5b822-df4e-44f7-9e6d-d39a6f05a567",
   "metadata": {},
   "outputs": [],
   "source": [
    "from bokeh.plotting import figure, show, output_notebook\n",
    "from bokeh.models import HoverTool\n",
    "\n",
    "\n",
    "p = figure(\n",
    "    title=\"USBL Model\",\n",
    "    x_axis_label=\"Time [MJD days]\",\n",
    "    y_axis_label=\"LOG(A-1)\",\n",
    "    x_range=(t0 - tE, t0 + tE),\n",
    "    tools=\"pan,box_zoom,reset,save\"\n",
    ")\n",
    "\n",
    "# Add the plot\n",
    "p.line(time_sim, log_magnification, color=\"red\", legend_label=\"USBL model\", line_width=2)\n",
    "\n",
    "# Add hover tool for interactivity\n",
    "hover = HoverTool(\n",
    "    tooltips=[(\"Time\", \"@x\"), (\"LOG(A-1)\", \"@y\")],\n",
    "    mode='vline'\n",
    ")\n",
    "p.add_tools(hover)\n",
    "\n",
    "# Customize legend and layout\n",
    "p.legend.location = \"top_left\"\n",
    "p.legend.click_policy = \"hide\"\n",
    "\n",
    "# Show the plot\n",
    "show(p)"
   ]
  }
 ],
 "metadata": {
  "kernelspec": {
   "display_name": "pylima_updated",
   "language": "python",
   "name": "pylima_updated"
  },
  "language_info": {
   "codemirror_mode": {
    "name": "ipython",
    "version": 3
   },
   "file_extension": ".py",
   "mimetype": "text/x-python",
   "name": "python",
   "nbconvert_exporter": "python",
   "pygments_lexer": "ipython3",
   "version": "3.9.20"
  }
 },
 "nbformat": 4,
 "nbformat_minor": 5
}

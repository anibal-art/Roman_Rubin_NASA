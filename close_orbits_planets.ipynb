{
 "cells": [
  {
   "cell_type": "code",
   "execution_count": 1,
   "id": "7981c0e7-7bf9-4b77-aaba-d52663a150a0",
   "metadata": {},
   "outputs": [
    {
     "name": "stderr",
     "output_type": "stream",
     "text": [
      "/home/anibal-pc/anaconda3/envs/pyLIMA/lib/python3.9/site-packages/tqdm/auto.py:21: TqdmWarning: IProgress not found. Please update jupyter and ipywidgets. See https://ipywidgets.readthedocs.io/en/stable/user_install.html\n",
      "  from .autonotebook import tqdm as notebook_tqdm\n"
     ]
    },
    {
     "name": "stdout",
     "output_type": "stream",
     "text": [
      "0.005761505427078632\n",
      "73.703964552529 d\n",
      "0.00012389089318922777 1 / mas\n",
      "0.24778178637845552\n",
      "0.00011852243741783865 1 / mas\n",
      "3.607471751461355e-05 1 / mas\n",
      "2462239.263828608\n"
     ]
    }
   ],
   "source": [
    "import pandas as pd\n",
    "import numpy as np\n",
    "import matplotlib.pyplot as plt\n",
    "from tqdm.auto import tqdm\n",
    "from astropy import constants as const\n",
    "from astropy import units as u\n",
    "import math\n",
    "from astropy.constants import c, L_sun, sigma_sb, M_jup, M_earth\n",
    "from pyLIMA import event\n",
    "from pyLIMA import telescopes\n",
    "from pyLIMA.models import USBL_model\n",
    "from pyLIMA.models import PSBL_model\n",
    "from collections import OrderedDict\n",
    "\n",
    "\n",
    "tstart_Roman = 2461508.763828608\n",
    "m_planet = 1* u.M_earth\n",
    "m_star = 1* u.M_sun\n",
    "q = (m_planet/m_star).decompose()\n",
    "ml = (m_star+m_planet).decompose().to('M_sun')\n",
    "DS = 8000 * u.pc\n",
    "DL = 4000 * u.pc\n",
    "c = const.c\n",
    "G = const.G\n",
    "yr2day = 365.25\n",
    "pi_rel = ((1 / DL) - (1 / DS))\n",
    "k = 4 * G / (c ** 2)\n",
    "aconv = (180 * 60 * 60 * 1000) / math.pi\n",
    "theta_E = (np.sqrt(k * pi_rel * ml).decompose()*u.rad).to('mas')\n",
    "mu_rel = 5*u.mas/u.year\n",
    "tE = (theta_E/mu_rel).to('day')\n",
    "piE = pi_rel.value/theta_E\n",
    "Rstar = 10*u.R_sun\n",
    "theta_s = np.arctan(Rstar/DS).decompose().to('mas')\n",
    "u0 = 2/3\n",
    "rho = theta_s/theta_E\n",
    "phi = np.random.uniform(0, np.pi)\n",
    "piEE = piE * np.cos(phi)\n",
    "piEN = piE * np.sin(phi)\n",
    "d = 1\n",
    "s = (np.arctan(d*u.au/DL).to('mas'))/theta_E\n",
    "t0 = tstart_Roman+2*365.25\n",
    "\n",
    "print(rho)\n",
    "print(tE)\n",
    "print(piE)\n",
    "print(s)\n",
    "print(piEE)\n",
    "print(piEN)\n",
    "print(t0)"
   ]
  },
  {
   "cell_type": "code",
   "execution_count": 13,
   "id": "62dfd5e9-9799-4491-93d0-78b86e5a0c00",
   "metadata": {},
   "outputs": [
    {
     "name": "stdout",
     "output_type": "stream",
     "text": [
      "OrderedDict([('t0', 2462239.263828608), ('u0', 0.3), ('tE', 100), ('rho', 0.001), ('separation', 0.1), ('mass_ratio', 0.000125), ('alpha', 2), ('fsource_Simulation', None), ('fblend_Simulation', None), ('v_para', 1000), ('v_perp', 600), ('v_radial', 600)])\n"
     ]
    },
    {
     "data": {
      "image/png": "[encoded data removed]",
      "text/plain": [
       "<Figure size 640x480 with 1 Axes>"
      ]
     },
     "metadata": {},
     "output_type": "display_data"
    }
   ],
   "source": [
    "\n",
    "simulated_event = event.Event(ra = 170, dec=-70)\n",
    "simulated_event.name = 'Simulated'   \n",
    "\n",
    "u0=0.3\n",
    "tE=100\n",
    "rho=0.001\n",
    "s=0.1\n",
    "q=1.25e-4\n",
    "alpha=2\n",
    "v_para = 1000\n",
    "v_perp = 600\n",
    "v_radial = 600\n",
    "\n",
    "\n",
    "\n",
    "time_sim = np.linspace(t0-4*tE,t0+4*tE,50000)      \n",
    "lightcurve_sim = np.c_[time_sim,[19.] * len(time_sim),[0.01] * len(time_sim)]\n",
    "\n",
    "telescope = telescopes.Telescope(name='Simulation',\n",
    "                                 camera_filter='I',\n",
    "                                 lightcurve = lightcurve_sim.astype(float),\n",
    "                                 lightcurve_names = ['time','mag','err_mag'],\n",
    "                                 lightcurve_units = ['JD','mag','err_mag'],\n",
    "                                     )\n",
    "\n",
    "simulated_event.telescopes.append(telescope)\n",
    "\n",
    "usbl = USBL_model.USBLmodel(simulated_event, parallax=['None',0], orbital_motion=['2D', t0])\n",
    "\n",
    "# Initialize the OrderedDict\n",
    "pyLIMA_parameters = OrderedDict([\n",
    "    ('t0', t0),\n",
    "    ('u0', u0),\n",
    "    ('tE', tE),\n",
    "    ('rho', rho),\n",
    "    ('separation', s),\n",
    "    ('mass_ratio', q),\n",
    "    ('alpha', alpha),\n",
    "    ('fsource_Simulation', None),\n",
    "    ('fblend_Simulation', None)\n",
    "])\n",
    "pyLIMA_parameters['v_para'] = v_para\n",
    "pyLIMA_parameters['v_perp'] = v_perp\n",
    "pyLIMA_parameters['v_radial'] = v_radial\n",
    "\n",
    "print(pyLIMA_parameters)\n",
    "\n",
    "magnification = usbl.model_magnification(telescope, pyLIMA_parameters)\n",
    "magnification\n",
    "log_magnification = np.log(magnification-1)\n",
    "# %matplotlib widget\n",
    "plt.plot(time_sim,log_magnification,\"r\",label=\"USBL model\")\n",
    "# plt.xlim(t0-tE,t0+tE)\n",
    "\n",
    "plt.xlabel(\"Time [MJD days]\")\n",
    "plt.ylabel(\"$LOG(A-1)$\")\n",
    "plt.legend()\n",
    "plt.show()       \n",
    "plt.close()"
   ]
  },
  {
   "cell_type": "code",
   "execution_count": 14,
   "id": "3dc5b822-df4e-44f7-9e6d-d39a6f05a567",
   "metadata": {},
   "outputs": [],
   "source": [
    "from bokeh.plotting import figure, show, output_notebook\n",
    "from bokeh.models import HoverTool\n",
    "\n",
    "\n",
    "p = figure(\n",
    "    title=\"USBL Model\",\n",
    "    x_axis_label=\"Time [MJD days]\",\n",
    "    y_axis_label=\"LOG(A-1)\",\n",
    "    x_range=(t0 - tE, t0 + tE),\n",
    "    tools=\"pan,box_zoom,reset,save\"\n",
    ")\n",
    "\n",
    "# Add the plot\n",
    "p.line(time_sim, log_magnification, color=\"red\", legend_label=\"USBL model\", line_width=2)\n",
    "\n",
    "# Add hover tool for interactivity\n",
    "hover = HoverTool(\n",
    "    tooltips=[(\"Time\", \"@x\"), (\"LOG(A-1)\", \"@y\")],\n",
    "    mode='vline'\n",
    ")\n",
    "p.add_tools(hover)\n",
    "\n",
    "# Customize legend and layout\n",
    "p.legend.location = \"top_left\"\n",
    "p.legend.click_policy = \"hide\"\n",
    "\n",
    "# Show the plot\n",
    "show(p)"
   ]
  },
  {
   "cell_type": "code",
   "execution_count": 45,
   "id": "ad9b4d90-2bef-428c-87c7-54e32441a494",
   "metadata": {},
   "outputs": [
    {
     "name": "stdout",
     "output_type": "stream",
     "text": [
      "3.003489348850793e-06\n",
      "1.00895228682449 mas\n",
      "73.703964552529 d\n",
      "0.00012389089318922777 1 / mas\n",
      "0.24778178637845552\n"
     ]
    }
   ],
   "source": []
  },
  {
   "cell_type": "code",
   "execution_count": null,
   "id": "fbb71204-59ae-4056-b52c-cd1199c4b78e",
   "metadata": {},
   "outputs": [],
   "source": []
  },
  {
   "cell_type": "code",
   "execution_count": null,
   "id": "5bfaf72e-ec17-497a-80bb-2bd9ff34edf3",
   "metadata": {},
   "outputs": [],
   "source": []
  }
 ],
 "metadata": {
  "kernelspec": {
   "display_name": "PyLIMA",
   "language": "python",
   "name": "pylima"
  },
  "language_info": {
   "codemirror_mode": {
    "name": "ipython",
    "version": 3
   },
   "file_extension": ".py",
   "mimetype": "text/x-python",
   "name": "python",
   "nbconvert_exporter": "python",
   "pygments_lexer": "ipython3",
   "version": "3.9.20"
  }
 },
 "nbformat": 4,
 "nbformat_minor": 5
}

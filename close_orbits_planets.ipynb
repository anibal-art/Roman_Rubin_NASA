{
 "cells": [
  {
   "cell_type": "code",
   "execution_count": 47,
   "id": "7981c0e7-7bf9-4b77-aaba-d52663a150a0",
   "metadata": {},
   "outputs": [],
   "source": [
    "import pandas as pd\n",
    "import numpy as np\n",
    "import matplotlib.pyplot as plt\n",
    "from tqdm.auto import tqdm\n",
    "from astropy import constants as const\n",
    "from astropy import units as u\n",
    "import math\n",
    "from astropy.constants import c, L_sun, sigma_sb, M_jup, M_earth, G\n",
    "from pyLIMA import event\n",
    "from pyLIMA import telescopes\n",
    "from pyLIMA.models import USBL_model\n",
    "from pyLIMA.models import PSBL_model\n",
    "from collections import OrderedDict\n",
    "from astropy.coordinates import SkyCoord"
   ]
  },
  {
   "cell_type": "markdown",
   "id": "5a7feb32-02fe-44dc-b9f1-38f29fc8406f",
   "metadata": {},
   "source": [
    "As an example we can take the case of TRAPPIST-1"
   ]
  },
  {
   "cell_type": "code",
   "execution_count": 3,
   "id": "40a7178e-193d-4444-ab80-2e022ca707d4",
   "metadata": {},
   "outputs": [
    {
     "name": "stdout",
     "output_type": "stream",
     "text": [
      "0.3327435928476573\n",
      "thetaE se lo puede estimar asi con tE 0.3327435928476573\n",
      "thetaE se lo puede estimar asi con rho 0.3327435928476573\n",
      "la masa es 0.08000305454866778 solMass\n",
      "la masa se la puede estimar asi 0.08000305454866777 solMass\n"
     ]
    }
   ],
   "source": [
    "# print(theta_E)\n",
    "# print(theta_s/rho)\n",
    "# mass.append(mass_kg.to('M_sun'))\n",
    "# print(mass_kg.to('M_sun'))\n",
    "# print((theta_E/(k*(pi_rel/theta_E))).decompose().to('M_sun'))\n",
    "# plt.hist(mlist)"
   ]
  },
  {
   "cell_type": "code",
   "execution_count": 48,
   "id": "5468391e-6aeb-4a5c-a410-016a23153702",
   "metadata": {},
   "outputs": [],
   "source": [
    "# [type(dict_micro[f][0]) for f in dict_micro]"
   ]
  },
  {
   "cell_type": "code",
   "execution_count": 49,
   "id": "178326c4-a8cf-4ebe-a06f-fa55e439b746",
   "metadata": {},
   "outputs": [
    {
     "name": "stdout",
     "output_type": "stream",
     "text": [
      "0.0 1\n",
      "1.0\n",
      "1518.9419061781632 1 / yr\n",
      "Sampled velocities: γ1 = -152.1601, γ2 = -591.0722, γ3 = -1390.9225\n",
      "1518.9419061781632\n",
      "1518.9419061781632 1 / yr\n"
     ]
    }
   ],
   "source": []
  },
  {
   "cell_type": "code",
   "execution_count": 50,
   "id": "20fd6798-8b36-403f-87a5-14a4417536d3",
   "metadata": {},
   "outputs": [],
   "source": [
    "\n",
    "gc = SkyCoord(l=0.5 * u.degree, b=-1.25 * u.degree, frame='galactic')\n",
    "gc.icrs.dec.value\n",
    "Ra = gc.icrs.ra.value\n",
    "Dec = gc.icrs.dec.value"
   ]
  },
  {
   "cell_type": "code",
   "execution_count": 51,
   "id": "df1ac1ef-6f7f-48c7-ac1c-77a3f62feb47",
   "metadata": {},
   "outputs": [
    {
     "name": "stderr",
     "output_type": "stream",
     "text": [
      "/home/anibal-pc/anaconda3/envs/pyLIMA_updated/lib/python3.11/site-packages/erfa/core.py:133: ErfaWarning: ERFA function \"utctai\" yielded 3326 of \"dubious year (Note 3)\"\n",
      "  warn(f'ERFA function \"{func_name}\" yielded {wmsg}', ErfaWarning)\n",
      "/home/anibal-pc/anaconda3/envs/pyLIMA_updated/lib/python3.11/site-packages/erfa/core.py:133: ErfaWarning: ERFA function \"taiutc\" yielded 3326 of \"dubious year (Note 4)\"\n",
      "  warn(f'ERFA function \"{func_name}\" yielded {wmsg}', ErfaWarning)\n"
     ]
    },
    {
     "name": "stdout",
     "output_type": "stream",
     "text": [
      "Parallax(Full) estimated for the telescope Simulation: SUCCESS\n"
     ]
    },
    {
     "name": "stderr",
     "output_type": "stream",
     "text": [
      "/home/anibal-pc/anaconda3/envs/pyLIMA_updated/lib/python3.11/site-packages/erfa/core.py:133: ErfaWarning: ERFA function \"utcut1\" yielded 3326 of \"dubious year (Note 3)\"\n",
      "  warn(f'ERFA function \"{func_name}\" yielded {wmsg}', ErfaWarning)\n",
      "/home/anibal-pc/anaconda3/envs/pyLIMA_updated/lib/python3.11/site-packages/erfa/core.py:133: ErfaWarning: ERFA function \"utctai\" yielded 1 of \"dubious year (Note 3)\"\n",
      "  warn(f'ERFA function \"{func_name}\" yielded {wmsg}', ErfaWarning)\n",
      "/home/anibal-pc/anaconda3/envs/pyLIMA_updated/lib/python3.11/site-packages/erfa/core.py:133: ErfaWarning: ERFA function \"taiutc\" yielded 1 of \"dubious year (Note 4)\"\n",
      "  warn(f'ERFA function \"{func_name}\" yielded {wmsg}', ErfaWarning)\n"
     ]
    }
   ],
   "source": [
    "simulated_event = event.Event(ra = Ra, dec=Dec)\n",
    "simulated_event.name = 'Simulated'   \n",
    "\n",
    "t0 =dict_micro['t0'][0]\n",
    "\n",
    "time_sim = np.linspace(t0-5*365,t0+5*365,5000)      \n",
    "lightcurve_sim = np.c_[time_sim,[19.] * len(time_sim),[0.01] * len(time_sim)]\n",
    "\n",
    "telescope = telescopes.Telescope(name='Simulation',\n",
    "                                 camera_filter='I',\n",
    "                                 lightcurve = lightcurve_sim.astype(float),\n",
    "                                 lightcurve_names = ['time','mag','err_mag'],\n",
    "                                 lightcurve_units = ['JD','mag','err_mag'],\n",
    "                                     )\n",
    "simulated_event.telescopes.append(telescope)\n",
    "\n",
    "\n",
    "# pspl_params = [t0, u0, tE]\n",
    "usbl = USBL_model.USBLmodel(simulated_event, parallax=['Full',t0], orbital_motion=['Keplerian', t0])"
   ]
  },
  {
   "cell_type": "code",
   "execution_count": 55,
   "id": "25d8fcdf-ba18-4820-96bd-c006cddb68e0",
   "metadata": {},
   "outputs": [
    {
     "name": "stdout",
     "output_type": "stream",
     "text": [
      "              u       g       r       i       z       Y     W149    radius  \\\n",
      "0        27.940  25.112  23.791  23.052  22.687  22.509  22.4888  0.204717   \n",
      "1        32.152  28.801  27.358  25.353  24.371  23.905  23.7048  0.256539   \n",
      "2        29.916  26.583  25.143  23.976  23.416  23.174  23.0758  0.377705   \n",
      "3        19.718  18.786  18.695  18.736  18.808  18.839  19.3448  1.236383   \n",
      "4        28.293  25.580  24.286  23.587  23.239  23.064  23.0568  0.232088   \n",
      "...         ...     ...     ...     ...     ...     ...      ...       ...   \n",
      "6752291  21.726  19.667  18.856  18.583  18.465  18.388  18.4668  0.739866   \n",
      "6752292  31.351  28.019  26.612  25.096  24.364  24.047  23.9338  0.155472   \n",
      "6752293  31.896  28.454  27.026  25.409  24.634  24.297  24.1688  0.144928   \n",
      "6752294  31.964  28.363  26.911  25.127  24.277  23.904  23.7488  0.134634   \n",
      "6752295  32.057  28.583  27.151  25.501  24.712  24.368  24.2348  0.142283   \n",
      "\n",
      "          D_S   D_L    mu_rel  \n",
      "0        7708  3337  1.752341  \n",
      "1        5443  3490  3.368060  \n",
      "2        7715  4581  6.920123  \n",
      "3        6055  2758  9.626590  \n",
      "4        7359  6834  6.344430  \n",
      "...       ...   ...       ...  \n",
      "6752291  7146  4065  6.165341  \n",
      "6752292  7658  7336  3.263417  \n",
      "6752293  6692  1580  3.748167  \n",
      "6752294  3549  2746  4.960442  \n",
      "6752295  7631  6099  2.048798  \n",
      "\n",
      "[6752296 rows x 11 columns]\n",
      "0.3327435928476573\n",
      "thetaE se lo puede estimar asi con tE 0.3327435928476573\n",
      "thetaE se lo puede estimar asi con rho 0.3327435928476573\n",
      "la masa es 0.08000305454866778 solMass\n",
      "la masa se la puede estimar asi 0.08000305454866778 solMass\n",
      "0.0 1\n",
      "1.0\n",
      "1518.9419061781632 1 / yr\n",
      "Sampled velocities: γ1 = 950.3125, γ2 = 690.9798, γ3 = 962.6201\n",
      "1518.9419061781634\n",
      "1518.9419061781632 1 / yr\n",
      "OrderedDict([('t0', 2463171.8153662873), ('u0', 0.7326445041138487), ('tE', 69.35556337927768), ('rho', 0.0003711917751133969), ('separation', 0.010399955112919804), ('mass_ratio', np.float64(3.81818583472657e-05)), ('alpha', 0.7853981633974483), ('piEN', np.float64(0.055188931521963074)), ('piEE', np.float64(-0.507717915010027)), ('v_para', np.float64(950.3125391647785)), ('v_perp', np.float64(690.9798258813807)), ('v_radial', np.float64(962.6201080775741)), ('r_s', 0.0), ('a_s', 1), ('fsource_Simulation', 12.34567), ('fblend_Simulation', 1.234456), ('Rmatrix', array([[-0.62564114,  0.780111  ],\n",
      "       [-0.45490866, -0.36483215]])), ('a_true', np.float64(0.010399955112919804)), ('eccentricity', np.float64(0.6256411356480885)), ('orbital_velocity', np.float64(1518.9419061781632)), ('t_periastron', np.float64(2462739.5365715013))])\n"
     ]
    }
   ],
   "source": [
    "data = pd.read_csv('/home/anibal-pc/Downloads/df_trilegal_radios.csv') #Koshimoto model and TRILEGAL\n",
    "print(data)\n",
    "ang_radii_E = []\n",
    "radii_source = []\n",
    "tstart_Roman = 2461508.763828608\n",
    "mlist=[]\n",
    "dict_micro = {'m_planet':[],'m_star':[],'t0': [],'te': [],'u0': [],'rho': [],'piEE': [],'piEN': [],'s':[],'q':[],'alpha':[]}\n",
    "# for i in tqdm(range(int(1))):#4e+4))):#len(data))):\n",
    "    # ml = (50*u.M_sun).value\n",
    "i=0\n",
    "m_planet = 1.017 *u.M_earth#np.random.uniform(0.0031463518655061432 , 13)* u.M_jup\n",
    "m_star = 0.08 *u.M_sun#np.random.uniform(1 , 120 )* u.M_sun\n",
    "q = (m_planet/m_star).decompose()\n",
    "ml = (m_star+m_planet).decompose().to('M_sun')\n",
    "# print(ml)\n",
    "# ml = np.random.uniform((1 * u.M_sun).value, (120 * u.M_sun).value)\n",
    "# ml = ml*u.M_sun\n",
    "# print(ml)\n",
    "DS = (data.iloc[i]['D_S'] * u.pc).to('kpc')\n",
    "DL = (data.iloc[i]['D_L'] * u.pc).to('kpc')\n",
    "c = const.c\n",
    "G = const.G\n",
    "yr2day = 365.25\n",
    "pi_rel = ((1 / DL) - (1 / DS))\n",
    "# print(pi_rel)\n",
    "k = 4 * G / (c ** 2)\n",
    "aconv = (180 * 60 * 60 * 1000) / math.pi\n",
    "theta_E = np.sqrt(k * pi_rel * ml).decompose() * aconv #multiplico por aconv para pasar de rad a mas\n",
    "print(theta_E)\n",
    "\n",
    "mu_rel = data.iloc[i]['mu_rel']\n",
    "tE = float((theta_E/mu_rel)*yr2day)\n",
    "print('thetaE se lo puede estimar asi con tE', mu_rel*tE/yr2day)\n",
    "\n",
    "piE = float(pi_rel.value/theta_E)\n",
    "ang_radii_E.append(theta_E)\n",
    "Rstar = data['radius'][i]*u.R_sun\n",
    "theta_s = np.arctan(Rstar/DS).decompose().to('mas').value\n",
    "radii_source.append(theta_s)\n",
    "\n",
    "\n",
    "#------------------------------------------------------------------------------------------------\n",
    "# t0 = np.random.uniform(tstart_Roman,\n",
    "                       # tstart_Roman + 5 * 365)  # from 100 day before Roman is launched to one year later\n",
    "u0 = np.random.uniform(0, 3)\n",
    "rho = float((theta_s/theta_E).value)\n",
    "\n",
    "print('thetaE se lo puede estimar asi con rho', theta_s/rho)\n",
    "phi = np.random.uniform(0, np.pi)\n",
    "piEE = piE * np.cos(phi)\n",
    "piEN = piE * np.sin(phi)\n",
    "d = 0.01154775   #orbit semi major axis\n",
    "s = float(((np.arctan(d*u.au/DL).to('mas'))/(theta_E)).value)\n",
    "\n",
    "print('la masa es', (m_planet+m_star).to('M_sun'))\n",
    "\n",
    "print('la masa se la puede estimar asi', ((theta_E/aconv**2)*u.kpc/(k*np.sqrt(piEN**2+piEE**2))).decompose().to('M_sun'))\n",
    "\n",
    "# print(s)\n",
    "# print(theta_E)\n",
    "# s = np.random.uniform(0,np.arctan(d/dl)/theta_E)\n",
    "t0 = np.random.uniform(tstart_Roman,\n",
    "                   tstart_Roman + 5 * 365)\n",
    "dict_micro['u0'].append(u0)\n",
    "dict_micro['te'].append(tE)\n",
    "dict_micro['rho'].append(rho)\n",
    "dict_micro['piEE'].append(piEE)\n",
    "dict_micro['piEN'].append(piEN)\n",
    "dict_micro['t0'].append(t0)\n",
    "dict_micro['q'].append(q.value)\n",
    "dict_micro['s'].append(s)\n",
    "dict_micro['alpha'].append(np.random.uniform(0,np.pi))\n",
    "dict_micro['m_planet'].append(m_planet)\n",
    "dict_micro['m_star'].append(m_star)    \n",
    "mass_kg = (pi_rel/(k*(pi_rel/theta_E)**2)).decompose()\n",
    "# print(mass_kg.to('M_sun'))\n",
    "# print((theta_E/aconv)**2)\n",
    "# print((((theta_E/aconv)**2)/(k*pi_rel)).decompose().to('M_sun'))\n",
    "mlist.append((((theta_E/aconv)**2)/(k*pi_rel)).decompose().to('M_sun'))\n",
    "\n",
    "\n",
    "T = (1.51087637*u.day).to('year') #orbital period\n",
    "sz = 0\n",
    "\n",
    "r_s = sz/s\n",
    "a_s = 1\n",
    "print(r_s, a_s)\n",
    "\n",
    "# Compute orbital frequency using Kepler's third law\n",
    "n = 2 * np.pi / T\n",
    "\n",
    "# Compute denominator of equation (A5)\n",
    "denominator = a_s * np.sqrt((-1 + 2 * a_s) * (1 + r_s**2))\n",
    "print(denominator)\n",
    "# Compute the required velocity magnitude\n",
    "velocity_magnitude = n * denominator\n",
    "print(velocity_magnitude)\n",
    "\n",
    "\n",
    "# Sample random velocity components that satisfy the magnitude constraint\n",
    "def sample_velocities(magnitude):\n",
    "    while True:\n",
    "        gamma = np.random.normal(size=3)  # Sample from normal distribution\n",
    "        gamma *= magnitude / np.linalg.norm(gamma)  # Normalize to correct magnitude\n",
    "        return gamma\n",
    "\n",
    "# Generate a valid velocity set\n",
    "gamma1, gamma2, gamma3 = sample_velocities(velocity_magnitude.value)\n",
    "\n",
    "# Output results\n",
    "print(f\"Sampled velocities: γ1 = {gamma1:.4f}, γ2 = {gamma2:.4f}, γ3 = {gamma3:.4f}\")\n",
    "print(np.sqrt(gamma1**2 +gamma2**2+ gamma3**2))\n",
    "print(velocity_magnitude)\n",
    "\n",
    "v_para = gamma1\n",
    "v_perp = gamma2\n",
    "v_radial = gamma3\n",
    "\n",
    "f_source = 12.34567\n",
    "f_blend = 1.234456\n",
    "\n",
    "params = [ dict_micro['t0'][0], dict_micro['u0'][0], dict_micro['te'][0], dict_micro['rho'][0],\n",
    "          dict_micro['s'][0],dict_micro['q'][0], np.pi/4, dict_micro['piEN'][0], dict_micro['piEE'][0] , v_para, v_perp, v_radial, r_s ,a_s, f_source, f_blend]\n",
    "\n",
    "pyLIMA_parameters = usbl.compute_pyLIMA_parameters(params , fancy_parameters=False)\n",
    "print(pyLIMA_parameters)"
   ]
  },
  {
   "cell_type": "code",
   "execution_count": 46,
   "id": "39d2c100-90be-45af-9e9e-f196eb6cb6a0",
   "metadata": {},
   "outputs": [],
   "source": [
    "# dict_micro['te'][0]"
   ]
  },
  {
   "cell_type": "code",
   "execution_count": 53,
   "id": "62dfd5e9-9799-4491-93d0-78b86e5a0c00",
   "metadata": {},
   "outputs": [
    {
     "data": {
      "image/png": "[encoded data removed]",
      "text/plain": [
       "<Figure size 640x480 with 1 Axes>"
      ]
     },
     "metadata": {},
     "output_type": "display_data"
    }
   ],
   "source": [
    "magnification = usbl.model_magnification(telescope, pyLIMA_parameters)\n",
    "magnification\n",
    "log_magnification = np.log(magnification-1)\n",
    "# %matplotlib widget\n",
    "plt.plot(time_sim,log_magnification,\"r\",label=\"USBL model\")\n",
    "# plt.plot(time_sim,magnification,\"r\",label=\"USBL model\")\n",
    "# plt.xlim(t0-tE,t0+tE)\n",
    "\n",
    "plt.xlabel(\"Time [MJD days]\")\n",
    "plt.ylabel(\"$LOG(A-1)$\")\n",
    "plt.legend()\n",
    "plt.show()       \n",
    "plt.close()"
   ]
  },
  {
   "cell_type": "code",
   "execution_count": 1,
   "id": "d5490f5a-57a6-46f4-bb2c-f086fe7bde0e",
   "metadata": {},
   "outputs": [],
   "source": [
    "# help(usbl)"
   ]
  },
  {
   "cell_type": "code",
   "execution_count": 36,
   "id": "3dc5b822-df4e-44f7-9e6d-d39a6f05a567",
   "metadata": {},
   "outputs": [],
   "source": [
    "from bokeh.plotting import figure, show, output_notebook\n",
    "from bokeh.models import HoverTool\n",
    "\n",
    "p = figure(\n",
    "    title=\"USBL Model\",\n",
    "    x_axis_label=\"Time [MJD days]\",\n",
    "    y_axis_label=\"LOG(A-1)\",\n",
    "        width=1600,  # Use `width` instead of `plot_width`\n",
    "    height=800,  # Use `height` instead of `plot_height`\n",
    "    x_range=(t0 - 5*tE, t0 + 5*tE),\n",
    "    tools=\"pan,box_zoom,reset,save\"\n",
    ")\n",
    "\n",
    "# Add the plot\n",
    "p.line(time_sim, log_magnification, color=\"red\", legend_label=\"USBL model\", line_width=2)\n",
    "\n",
    "# Add hover tool for interactivity\n",
    "hover = HoverTool(\n",
    "    tooltips=[(\"Time\", \"@x\"), (\"LOG(A-1)\", \"@y\")],\n",
    "    mode='vline'\n",
    ")\n",
    "p.add_tools(hover)\n",
    "\n",
    "# Customize legend and layout\n",
    "p.legend.location = \"top_left\"\n",
    "p.legend.click_policy = \"hide\"\n",
    "\n",
    "# Show the plot\n",
    "show(p)"
   ]
  },
  {
   "cell_type": "code",
   "execution_count": 45,
   "id": "ad9b4d90-2bef-428c-87c7-54e32441a494",
   "metadata": {},
   "outputs": [
    {
     "name": "stdout",
     "output_type": "stream",
     "text": [
      "3.003489348850793e-06\n",
      "1.00895228682449 mas\n",
      "73.703964552529 d\n",
      "0.00012389089318922777 1 / mas\n",
      "0.24778178637845552\n"
     ]
    }
   ],
   "source": []
  },
  {
   "cell_type": "code",
   "execution_count": null,
   "id": "fbb71204-59ae-4056-b52c-cd1199c4b78e",
   "metadata": {},
   "outputs": [],
   "source": []
  },
  {
   "cell_type": "code",
   "execution_count": null,
   "id": "5bfaf72e-ec17-497a-80bb-2bd9ff34edf3",
   "metadata": {},
   "outputs": [],
   "source": []
  }
 ],
 "metadata": {
  "kernelspec": {
   "display_name": "pyLIMA_update",
   "language": "python",
   "name": "pylima_update"
  },
  "language_info": {
   "codemirror_mode": {
    "name": "ipython",
    "version": 3
   },
   "file_extension": ".py",
   "mimetype": "text/x-python",
   "name": "python",
   "nbconvert_exporter": "python",
   "pygments_lexer": "ipython3",
   "version": "3.11.10"
  }
 },
 "nbformat": 4,
 "nbformat_minor": 5
}

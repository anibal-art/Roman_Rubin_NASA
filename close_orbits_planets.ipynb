{
 "cells": [
  {
   "cell_type": "code",
   "execution_count": 1,
   "id": "7981c0e7-7bf9-4b77-aaba-d52663a150a0",
   "metadata": {},
   "outputs": [],
   "source": [
    "import numpy as np\n",
    "import matplotlib.pyplot as plt\n",
    "from pyLIMA import event\n",
    "from pyLIMA import telescopes\n",
    "from pyLIMA.models import PSPL_model\n",
    "from pyLIMA.models import FSPL_model\n",
    "from pyLIMA.models import FSPLarge_model\n",
    "from pyLIMA.models import PSBL_model\n",
    "\n",
    "from pyLIMA.models import FSBL_model\n",
    "# from pyLIMA.models import DSPL_model\n",
    "#in v2 we need to separately call plots.\n",
    "from pyLIMA.outputs import pyLIMA_plots\n",
    "# import ipywidgets as widgets\n",
    "# from ipywidgets import interactive,interact, HBox, Layout,VBox\n",
    "from IPython.display import display"
   ]
  },
  {
   "cell_type": "code",
   "execution_count": 10,
   "id": "34b3ac6c-4b88-466a-9d44-6e9c01bc266b",
   "metadata": {},
   "outputs": [
    {
     "data": {
      "text/plain": [
       "0.0002737850787132101"
      ]
     },
     "execution_count": 10,
     "metadata": {},
     "output_type": "execute_result"
    }
   ],
   "source": [
    "# from pyLIMA.orbitalmotion import orbital_motion_2D\n",
    "# time=0.1\n",
    "# t0_om = 0\n",
    "# dalpha_dt=1\n",
    "# orbital_motion_2D.orbital_motion_2D_trajectory_shift(time, t0_om, dalpha_dt)"
   ]
  },
  {
   "cell_type": "code",
   "execution_count": 38,
   "id": "62dfd5e9-9799-4491-93d0-78b86e5a0c00",
   "metadata": {},
   "outputs": [
    {
     "name": "stdout",
     "output_type": "stream",
     "text": [
      "OrderedDict([('t0', 2457777.777), ('u0', 0.3333333333333333), ('tE', 50), ('rho', 0.001), ('separation', 0.1), ('mass_ratio', 0.000125), ('alpha', 2), ('fsource_Simulation', None), ('fblend_Simulation', None), ('v_para', 500), ('v_perp', 300), ('v_radial', 300)])\n"
     ]
    },
    {
     "data": {
      "image/png": "[encoded data removed]",
      "text/plain": [
       "<Figure size 640x480 with 1 Axes>"
      ]
     },
     "metadata": {},
     "output_type": "display_data"
    }
   ],
   "source": [
    "# %matplotlib widget\n",
    "import numpy as np\n",
    "import matplotlib.pyplot as plt\n",
    "from pyLIMA import event\n",
    "from pyLIMA import telescopes\n",
    "from pyLIMA.models import USBL_model\n",
    "from collections import OrderedDict\n",
    "\n",
    "simulated_event = event.Event(ra = 170, dec=-70)\n",
    "simulated_event.name = 'Simulated'   \n",
    "t0guess = 2457777.777\n",
    "\n",
    "time_sim = np.linspace(t0guess-200,t0guess+200,50000)      \n",
    "lightcurve_sim = np.c_[time_sim,[19.] * len(time_sim),[0.01] * len(time_sim)]\n",
    "\n",
    "telescope = telescopes.Telescope(name='Simulation',\n",
    "                                 camera_filter='I',\n",
    "                                 lightcurve = lightcurve_sim.astype(float),\n",
    "                                 lightcurve_names = ['time','mag','err_mag'],\n",
    "                                 lightcurve_units = ['JD','mag','err_mag'],\n",
    "                                     )\n",
    "\n",
    "simulated_event.telescopes.append(telescope)\n",
    "t0=t0guess\n",
    "\n",
    "u0=2/6\n",
    "tE=50\n",
    "rho=0.001\n",
    "s=1/10\n",
    "q=1.25e-4\n",
    "\n",
    "angles = np.linspace(0,2*np.pi,100)\n",
    "\n",
    "alpha=2\n",
    "usbl = USBL_model.USBLmodel(simulated_event, parallax=['None',0], orbital_motion=['2D', t0])\n",
    "\n",
    "# Initialize the OrderedDict\n",
    "pyLIMA_parameters = OrderedDict([\n",
    "    ('t0', 2457777.777),\n",
    "    ('u0', 0.3333333333333333),\n",
    "    ('tE', 50),\n",
    "    ('rho', 0.001),\n",
    "    ('separation', 0.1),\n",
    "    ('mass_ratio', 0.000125),\n",
    "    ('alpha', 2),\n",
    "    ('fsource_Simulation', None),\n",
    "    ('fblend_Simulation', None)\n",
    "])\n",
    "\n",
    "# Add new parameters\n",
    "pyLIMA_parameters['v_para'] = 500\n",
    "pyLIMA_parameters['v_perp'] = 300\n",
    "pyLIMA_parameters['v_radial'] = 300\n",
    "\n",
    "print(pyLIMA_parameters)\n",
    "\n",
    "magnification = usbl.model_magnification(telescope, pyLIMA_parameters)\n",
    "magnification\n",
    "plt.xlabel(\"Time\")\n",
    "plt.ylabel(\"$LOG(A-1)$\")\n",
    "plt.title(alpha)\n",
    "# plt.plot(time_sim,np.log10(magnification-1),\"r\",label=\"model\")\n",
    "plt.plot(time_sim,magnification,\"r\",label=\"model\")\n",
    "plt.yscale('log')\n",
    "plt.xlim(t0-tE,t0+tE)\n",
    "# plt.gca().invert_yaxis()\n",
    "plt.legend()\n",
    "plt.show()       \n",
    "plt.close()"
   ]
  },
  {
   "cell_type": "code",
   "execution_count": null,
   "id": "ee7de246-9cea-4f50-aaa0-c068fcc3da6b",
   "metadata": {},
   "outputs": [],
   "source": [
    "\n",
    "\n"
   ]
  }
 ],
 "metadata": {
  "kernelspec": {
   "display_name": "pylima_updated",
   "language": "python",
   "name": "pylima_updated"
  },
  "language_info": {
   "codemirror_mode": {
    "name": "ipython",
    "version": 3
   },
   "file_extension": ".py",
   "mimetype": "text/x-python",
   "name": "python",
   "nbconvert_exporter": "python",
   "pygments_lexer": "ipython3",
   "version": "3.9.20"
  }
 },
 "nbformat": 4,
 "nbformat_minor": 5
}

{
 "cells": [
  {
   "cell_type": "code",
   "execution_count": null,
   "id": "3ef6ffbe-70a8-4abf-a91b-0374c2f1b134",
   "metadata": {},
   "outputs": [],
   "source": []
  },
  {
   "cell_type": "code",
   "execution_count": 34,
   "id": "9a6a9458-2f62-4924-8bd8-881b66e318aa",
   "metadata": {
    "tags": []
   },
   "outputs": [
    {
     "data": {
      "text/html": [
       "<div>\n",
       "<style scoped>\n",
       "    .dataframe tbody tr th:only-of-type {\n",
       "        vertical-align: middle;\n",
       "    }\n",
       "\n",
       "    .dataframe tbody tr th {\n",
       "        vertical-align: top;\n",
       "    }\n",
       "\n",
       "    .dataframe thead th {\n",
       "        text-align: right;\n",
       "    }\n",
       "</style>\n",
       "<table border=\"1\" class=\"dataframe\">\n",
       "  <thead>\n",
       "    <tr style=\"text-align: right;\">\n",
       "      <th></th>\n",
       "      <th>name</th>\n",
       "      <th>planet_status</th>\n",
       "      <th>mass</th>\n",
       "      <th>mass_error_min</th>\n",
       "      <th>mass_error_max</th>\n",
       "      <th>mass_sini</th>\n",
       "      <th>mass_sini_error_min</th>\n",
       "      <th>mass_sini_error_max</th>\n",
       "      <th>radius</th>\n",
       "      <th>radius_error_min</th>\n",
       "      <th>...</th>\n",
       "      <th>star_sp_type</th>\n",
       "      <th>star_age</th>\n",
       "      <th>star_age_error_min</th>\n",
       "      <th>star_age_error_max</th>\n",
       "      <th>star_teff</th>\n",
       "      <th>star_teff_error_min</th>\n",
       "      <th>star_teff_error_max</th>\n",
       "      <th>star_detected_disc</th>\n",
       "      <th>star_magnetic_field</th>\n",
       "      <th>star_alternate_names</th>\n",
       "    </tr>\n",
       "  </thead>\n",
       "  <tbody>\n",
       "    <tr>\n",
       "      <th>0</th>\n",
       "      <td>109 Psc b</td>\n",
       "      <td>Confirmed</td>\n",
       "      <td>5.7430</td>\n",
       "      <td>0.28900</td>\n",
       "      <td>0.28900</td>\n",
       "      <td>6.3830</td>\n",
       "      <td>0.07800</td>\n",
       "      <td>0.07800</td>\n",
       "      <td>1.152</td>\n",
       "      <td>NaN</td>\n",
       "      <td>...</td>\n",
       "      <td>G5 IV</td>\n",
       "      <td>6.90</td>\n",
       "      <td>0.60</td>\n",
       "      <td>0.60</td>\n",
       "      <td>5600.0</td>\n",
       "      <td>80.000</td>\n",
       "      <td>80.000</td>\n",
       "      <td>NaN</td>\n",
       "      <td>NaN</td>\n",
       "      <td>HD 10697</td>\n",
       "    </tr>\n",
       "    <tr>\n",
       "      <th>1</th>\n",
       "      <td>112 Psc b</td>\n",
       "      <td>Confirmed</td>\n",
       "      <td>0.0330</td>\n",
       "      <td>0.00500</td>\n",
       "      <td>0.00500</td>\n",
       "      <td>0.0330</td>\n",
       "      <td>0.00500</td>\n",
       "      <td>0.00500</td>\n",
       "      <td>NaN</td>\n",
       "      <td>NaN</td>\n",
       "      <td>...</td>\n",
       "      <td>G0IV</td>\n",
       "      <td>NaN</td>\n",
       "      <td>NaN</td>\n",
       "      <td>NaN</td>\n",
       "      <td>5986.0</td>\n",
       "      <td>105.437</td>\n",
       "      <td>105.437</td>\n",
       "      <td>NaN</td>\n",
       "      <td>NaN</td>\n",
       "      <td>HD 12235</td>\n",
       "    </tr>\n",
       "    <tr>\n",
       "      <th>2</th>\n",
       "      <td>112 Psc c</td>\n",
       "      <td>Confirmed</td>\n",
       "      <td>9.8660</td>\n",
       "      <td>1.78100</td>\n",
       "      <td>1.78100</td>\n",
       "      <td>NaN</td>\n",
       "      <td>NaN</td>\n",
       "      <td>NaN</td>\n",
       "      <td>NaN</td>\n",
       "      <td>NaN</td>\n",
       "      <td>...</td>\n",
       "      <td>G0IV</td>\n",
       "      <td>NaN</td>\n",
       "      <td>NaN</td>\n",
       "      <td>NaN</td>\n",
       "      <td>5986.0</td>\n",
       "      <td>105.437</td>\n",
       "      <td>105.437</td>\n",
       "      <td>NaN</td>\n",
       "      <td>NaN</td>\n",
       "      <td>HD 12235</td>\n",
       "    </tr>\n",
       "    <tr>\n",
       "      <th>3</th>\n",
       "      <td>11 Com Ab</td>\n",
       "      <td>Confirmed</td>\n",
       "      <td>16.1284</td>\n",
       "      <td>1.53491</td>\n",
       "      <td>1.53491</td>\n",
       "      <td>16.1284</td>\n",
       "      <td>1.53491</td>\n",
       "      <td>1.53491</td>\n",
       "      <td>NaN</td>\n",
       "      <td>NaN</td>\n",
       "      <td>...</td>\n",
       "      <td>G8III</td>\n",
       "      <td>NaN</td>\n",
       "      <td>NaN</td>\n",
       "      <td>NaN</td>\n",
       "      <td>4742.0</td>\n",
       "      <td>100.000</td>\n",
       "      <td>100.000</td>\n",
       "      <td>NaN</td>\n",
       "      <td>NaN</td>\n",
       "      <td>HD 107383</td>\n",
       "    </tr>\n",
       "    <tr>\n",
       "      <th>4</th>\n",
       "      <td>11 UMi b</td>\n",
       "      <td>Confirmed</td>\n",
       "      <td>11.0873</td>\n",
       "      <td>1.10000</td>\n",
       "      <td>1.10000</td>\n",
       "      <td>11.0873</td>\n",
       "      <td>1.10000</td>\n",
       "      <td>1.10000</td>\n",
       "      <td>NaN</td>\n",
       "      <td>NaN</td>\n",
       "      <td>...</td>\n",
       "      <td>K4III</td>\n",
       "      <td>1.56</td>\n",
       "      <td>0.54</td>\n",
       "      <td>0.54</td>\n",
       "      <td>4340.0</td>\n",
       "      <td>70.000</td>\n",
       "      <td>70.000</td>\n",
       "      <td>NaN</td>\n",
       "      <td>NaN</td>\n",
       "      <td>NaN</td>\n",
       "    </tr>\n",
       "  </tbody>\n",
       "</table>\n",
       "<p>5 rows × 98 columns</p>\n",
       "</div>"
      ],
      "text/plain": [
       "        name planet_status     mass  mass_error_min  mass_error_max  \\\n",
       "0  109 Psc b     Confirmed   5.7430         0.28900         0.28900   \n",
       "1  112 Psc b     Confirmed   0.0330         0.00500         0.00500   \n",
       "2  112 Psc c     Confirmed   9.8660         1.78100         1.78100   \n",
       "3  11 Com Ab     Confirmed  16.1284         1.53491         1.53491   \n",
       "4   11 UMi b     Confirmed  11.0873         1.10000         1.10000   \n",
       "\n",
       "   mass_sini  mass_sini_error_min  mass_sini_error_max  radius  \\\n",
       "0     6.3830              0.07800              0.07800   1.152   \n",
       "1     0.0330              0.00500              0.00500     NaN   \n",
       "2        NaN                  NaN                  NaN     NaN   \n",
       "3    16.1284              1.53491              1.53491     NaN   \n",
       "4    11.0873              1.10000              1.10000     NaN   \n",
       "\n",
       "   radius_error_min  ...  star_sp_type  star_age  star_age_error_min  \\\n",
       "0               NaN  ...         G5 IV      6.90                0.60   \n",
       "1               NaN  ...          G0IV       NaN                 NaN   \n",
       "2               NaN  ...          G0IV       NaN                 NaN   \n",
       "3               NaN  ...         G8III       NaN                 NaN   \n",
       "4               NaN  ...         K4III      1.56                0.54   \n",
       "\n",
       "   star_age_error_max  star_teff  star_teff_error_min  star_teff_error_max  \\\n",
       "0                0.60     5600.0               80.000               80.000   \n",
       "1                 NaN     5986.0              105.437              105.437   \n",
       "2                 NaN     5986.0              105.437              105.437   \n",
       "3                 NaN     4742.0              100.000              100.000   \n",
       "4                0.54     4340.0               70.000               70.000   \n",
       "\n",
       "   star_detected_disc  star_magnetic_field  star_alternate_names  \n",
       "0                 NaN                  NaN              HD 10697  \n",
       "1                 NaN                  NaN              HD 12235  \n",
       "2                 NaN                  NaN              HD 12235  \n",
       "3                 NaN                  NaN             HD 107383  \n",
       "4                 NaN                  NaN                   NaN  \n",
       "\n",
       "[5 rows x 98 columns]"
      ]
     },
     "metadata": {},
     "output_type": "display_data"
    }
   ],
   "source": [
    "import pandas as pd\n",
    "import matplotlib.pyplot as plt\n",
    "import pandas as pd\n",
    "import numpy as np\n",
    "# File path\n",
    "file_path = \"exoplanets_eu.csv\"\n",
    "# Reading the CSV file with proper handling of quotes and commas\n",
    "df = pd.read_csv(file_path, quotechar='\"', skipinitialspace=True)\n",
    "# Display the dataframe to check if it's read correctly\n",
    "display(df.head())"
   ]
  },
  {
   "cell_type": "code",
   "execution_count": 2,
   "id": "a754bee3-7f60-4981-babf-dd1e2feaa194",
   "metadata": {
    "tags": []
   },
   "outputs": [],
   "source": [
    "# df['alpha']"
   ]
  },
  {
   "cell_type": "code",
   "execution_count": 3,
   "id": "02bd2162-70e7-447f-995c-8464d55f0d3e",
   "metadata": {
    "tags": []
   },
   "outputs": [],
   "source": [
    "# From left to right, the second quantity is the\n",
    "# planet’s mass, the stellar mass, the orbital period, the mass ratio Mpl/M∗, and the distance\n",
    "# to the lens."
   ]
  },
  {
   "cell_type": "code",
   "execution_count": 4,
   "id": "ef4072be-bdc3-45c1-ba6c-afb6fc8b939a",
   "metadata": {
    "tags": []
   },
   "outputs": [
    {
     "data": {
      "text/plain": [
       "0        1075.400000\n",
       "1           4.400000\n",
       "2       36336.700000\n",
       "3         326.030000\n",
       "4         516.220000\n",
       "            ...     \n",
       "7334        0.024600\n",
       "7335        0.054057\n",
       "7336        0.069789\n",
       "7337        0.043000\n",
       "7338        0.024000\n",
       "Name: orbital_period, Length: 7339, dtype: float64"
      ]
     },
     "execution_count": 4,
     "metadata": {},
     "output_type": "execute_result"
    }
   ],
   "source": [
    "df['orbital_period']"
   ]
  },
  {
   "cell_type": "code",
   "execution_count": 5,
   "id": "5c55f605-e48b-4d96-acb7-5f86b7944db1",
   "metadata": {
    "tags": []
   },
   "outputs": [
    {
     "data": {
      "text/plain": [
       "{'Astrometry',\n",
       " 'Microlensing',\n",
       " 'Radial Velocity',\n",
       " 'Spectrum',\n",
       " 'TTV',\n",
       " 'Theoretical',\n",
       " 'Timing',\n",
       " nan}"
      ]
     },
     "execution_count": 5,
     "metadata": {},
     "output_type": "execute_result"
    }
   ],
   "source": [
    "set(df['mass_measurement_type'])"
   ]
  },
  {
   "cell_type": "code",
   "execution_count": 6,
   "id": "e8075a03-60a1-496d-b5b3-e44d44d23aab",
   "metadata": {
    "tags": []
   },
   "outputs": [],
   "source": [
    "# mass_star==bool.nan"
   ]
  },
  {
   "cell_type": "code",
   "execution_count": 7,
   "id": "642b375b-8c8c-4b3a-9d1f-488ec79e5959",
   "metadata": {
    "tags": []
   },
   "outputs": [
    {
     "data": {
      "text/plain": [
       "Index(['name', 'planet_status', 'mass', 'mass_error_min', 'mass_error_max',\n",
       "       'mass_sini', 'mass_sini_error_min', 'mass_sini_error_max', 'radius',\n",
       "       'radius_error_min', 'radius_error_max', 'orbital_period',\n",
       "       'orbital_period_error_min', 'orbital_period_error_max',\n",
       "       'semi_major_axis', 'semi_major_axis_error_min',\n",
       "       'semi_major_axis_error_max', 'eccentricity', 'eccentricity_error_min',\n",
       "       'eccentricity_error_max', 'inclination', 'inclination_error_min',\n",
       "       'inclination_error_max', 'angular_distance', 'discovered', 'updated',\n",
       "       'omega', 'omega_error_min', 'omega_error_max', 'tperi',\n",
       "       'tperi_error_min', 'tperi_error_max', 'tconj', 'tconj_error_min',\n",
       "       'tconj_error_max', 'tzero_tr', 'tzero_tr_error_min',\n",
       "       'tzero_tr_error_max', 'tzero_tr_sec', 'tzero_tr_sec_error_min',\n",
       "       'tzero_tr_sec_error_max', 'lambda_angle', 'lambda_angle_error_min',\n",
       "       'lambda_angle_error_max', 'impact_parameter',\n",
       "       'impact_parameter_error_min', 'impact_parameter_error_max', 'tzero_vr',\n",
       "       'tzero_vr_error_min', 'tzero_vr_error_max', 'k', 'k_error_min',\n",
       "       'k_error_max', 'temp_calculated', 'temp_calculated_error_min',\n",
       "       'temp_calculated_error_max', 'temp_measured', 'hot_point_lon',\n",
       "       'geometric_albedo', 'geometric_albedo_error_min',\n",
       "       'geometric_albedo_error_max', 'log_g', 'publication', 'detection_type',\n",
       "       'mass_measurement_type', 'radius_measurement_type', 'alternate_names',\n",
       "       'molecules', 'star_name', 'ra', 'dec', 'mag_v', 'mag_i', 'mag_j',\n",
       "       'mag_h', 'mag_k', 'star_distance', 'star_distance_error_min',\n",
       "       'star_distance_error_max', 'star_metallicity',\n",
       "       'star_metallicity_error_min', 'star_metallicity_error_max', 'star_mass',\n",
       "       'star_mass_error_min', 'star_mass_error_max', 'star_radius',\n",
       "       'star_radius_error_min', 'star_radius_error_max', 'star_sp_type',\n",
       "       'star_age', 'star_age_error_min', 'star_age_error_max', 'star_teff',\n",
       "       'star_teff_error_min', 'star_teff_error_max', 'star_detected_disc',\n",
       "       'star_magnetic_field', 'star_alternate_names'],\n",
       "      dtype='object')"
      ]
     },
     "execution_count": 7,
     "metadata": {},
     "output_type": "execute_result"
    }
   ],
   "source": [
    "\n",
    "# print(DL.iloc[0])\n",
    "df.columns"
   ]
  },
  {
   "cell_type": "code",
   "execution_count": 8,
   "id": "a0c822a3-128b-4690-9222-0681667784d4",
   "metadata": {
    "tags": []
   },
   "outputs": [],
   "source": [
    "import pandas as pd\n",
    "\n",
    "# Example DataFrame\n",
    "# data = {'column_name': [1.630, 4.180, float('NaN'), 1.400, 2.440]}\n",
    "# df = pd.DataFrame(data)\n",
    "\n",
    "# To get rows with NaN values in 'column_name':\n"
   ]
  },
  {
   "cell_type": "code",
   "execution_count": 9,
   "id": "586b3fdd-bed6-4d74-a5b3-c73c6264a73a",
   "metadata": {
    "tags": []
   },
   "outputs": [
    {
     "name": "stderr",
     "output_type": "stream",
     "text": [
      "/tmp/ipykernel_116549/1542209987.py:3: UserWarning: Boolean Series key will be reindexed to match DataFrame index.\n",
      "  nan_rows = df[df['detection_type']=='Microlensing'][df['semi_major_axis'].isna()]\n"
     ]
    }
   ],
   "source": [
    "\n",
    "# m\n",
    "# a\n",
    "nan_rows = df[df['detection_type']=='Microlensing'][df['semi_major_axis'].isna()]\n",
    "\n",
    "# Display the result\n",
    "# print(nan_rows)\n"
   ]
  },
  {
   "cell_type": "code",
   "execution_count": 10,
   "id": "2078fb70-5bc6-446f-982b-a5d0dfb18ada",
   "metadata": {
    "tags": []
   },
   "outputs": [
    {
     "data": {
      "text/html": [
       "<div>\n",
       "<style scoped>\n",
       "    .dataframe tbody tr th:only-of-type {\n",
       "        vertical-align: middle;\n",
       "    }\n",
       "\n",
       "    .dataframe tbody tr th {\n",
       "        vertical-align: top;\n",
       "    }\n",
       "\n",
       "    .dataframe thead th {\n",
       "        text-align: right;\n",
       "    }\n",
       "</style>\n",
       "<table border=\"1\" class=\"dataframe\">\n",
       "  <thead>\n",
       "    <tr style=\"text-align: right;\">\n",
       "      <th></th>\n",
       "      <th>name</th>\n",
       "      <th>planet_status</th>\n",
       "      <th>mass</th>\n",
       "      <th>mass_error_min</th>\n",
       "      <th>mass_error_max</th>\n",
       "      <th>mass_sini</th>\n",
       "      <th>mass_sini_error_min</th>\n",
       "      <th>mass_sini_error_max</th>\n",
       "      <th>radius</th>\n",
       "      <th>radius_error_min</th>\n",
       "      <th>...</th>\n",
       "      <th>star_sp_type</th>\n",
       "      <th>star_age</th>\n",
       "      <th>star_age_error_min</th>\n",
       "      <th>star_age_error_max</th>\n",
       "      <th>star_teff</th>\n",
       "      <th>star_teff_error_min</th>\n",
       "      <th>star_teff_error_max</th>\n",
       "      <th>star_detected_disc</th>\n",
       "      <th>star_magnetic_field</th>\n",
       "      <th>star_alternate_names</th>\n",
       "    </tr>\n",
       "  </thead>\n",
       "  <tbody>\n",
       "    <tr>\n",
       "      <th>0</th>\n",
       "      <td>109 Psc b</td>\n",
       "      <td>Confirmed</td>\n",
       "      <td>5.743</td>\n",
       "      <td>0.289</td>\n",
       "      <td>0.289</td>\n",
       "      <td>6.383</td>\n",
       "      <td>0.078</td>\n",
       "      <td>0.078</td>\n",
       "      <td>1.152</td>\n",
       "      <td>NaN</td>\n",
       "      <td>...</td>\n",
       "      <td>G5 IV</td>\n",
       "      <td>6.9</td>\n",
       "      <td>0.6</td>\n",
       "      <td>0.6</td>\n",
       "      <td>5600.0</td>\n",
       "      <td>80.0</td>\n",
       "      <td>80.0</td>\n",
       "      <td>NaN</td>\n",
       "      <td>NaN</td>\n",
       "      <td>HD 10697</td>\n",
       "    </tr>\n",
       "  </tbody>\n",
       "</table>\n",
       "<p>1 rows × 98 columns</p>\n",
       "</div>"
      ],
      "text/plain": [
       "        name planet_status   mass  mass_error_min  mass_error_max  mass_sini  \\\n",
       "0  109 Psc b     Confirmed  5.743           0.289           0.289      6.383   \n",
       "\n",
       "   mass_sini_error_min  mass_sini_error_max  radius  radius_error_min  ...  \\\n",
       "0                0.078                0.078   1.152               NaN  ...   \n",
       "\n",
       "   star_sp_type  star_age  star_age_error_min  star_age_error_max  star_teff  \\\n",
       "0         G5 IV       6.9                 0.6                 0.6     5600.0   \n",
       "\n",
       "   star_teff_error_min  star_teff_error_max  star_detected_disc  \\\n",
       "0                 80.0                 80.0                 NaN   \n",
       "\n",
       "   star_magnetic_field  star_alternate_names  \n",
       "0                  NaN              HD 10697  \n",
       "\n",
       "[1 rows x 98 columns]"
      ]
     },
     "execution_count": 10,
     "metadata": {},
     "output_type": "execute_result"
    }
   ],
   "source": [
    "df[df['name']=='109 Psc b']"
   ]
  },
  {
   "cell_type": "code",
   "execution_count": 11,
   "id": "f7d0caf9-8235-4801-bff1-5d93ce1aad26",
   "metadata": {
    "tags": []
   },
   "outputs": [],
   "source": [
    "# pd.isna(a.iloc[2])"
   ]
  },
  {
   "cell_type": "code",
   "execution_count": 20,
   "id": "e4728158-53ee-4ad6-ba50-3ced6fe2e9c1",
   "metadata": {
    "tags": []
   },
   "outputs": [
    {
     "data": {
      "text/plain": [
       "{'Astrometry',\n",
       " 'Astrometry, Radial Velocity',\n",
       " 'Imaging',\n",
       " 'Imaging, Astrometry',\n",
       " 'Imaging, Kinematic',\n",
       " 'Imaging, Other',\n",
       " 'Imaging, Other, Astrometry',\n",
       " 'Imaging, Other, Kinematic',\n",
       " 'Imaging, Primary Transit',\n",
       " 'Imaging, Radial Velocity, Astrometry',\n",
       " 'Kinematic, Other',\n",
       " 'Microlensing',\n",
       " 'Other',\n",
       " 'Other, Imaging',\n",
       " 'Other, Imaging, Kinematic',\n",
       " 'Other, Kinematic',\n",
       " 'Other, Radial Velocity',\n",
       " 'Primary Transit',\n",
       " 'Primary Transit, Astrometry',\n",
       " 'Primary Transit, Radial Velocity',\n",
       " 'Primary Transit, TTV',\n",
       " 'Radial Velocity',\n",
       " 'Radial Velocity, Astrometry',\n",
       " 'Radial Velocity, Imaging',\n",
       " 'Radial Velocity, Primary Transit',\n",
       " 'Radial Velocity, Timing',\n",
       " 'TTV',\n",
       " 'Timing',\n",
       " 'Timing, Astrometry',\n",
       " 'Timing, Kinematic',\n",
       " 'Timing, Other'}"
      ]
     },
     "execution_count": 20,
     "metadata": {},
     "output_type": "execute_result"
    }
   ],
   "source": [
    "set(df['detection_type'])"
   ]
  },
  {
   "cell_type": "code",
   "execution_count": 35,
   "id": "e820ec24-bdae-460f-b8f5-5fbb89f01347",
   "metadata": {
    "tags": []
   },
   "outputs": [],
   "source": [
    "\n",
    "\n",
    "# df =df[df['detection_type']=='Microlensing']\n",
    "# print(len(df))\n",
    "\n",
    "P = df['orbital_period'][df['detection_type']=='Microlensing']\n",
    "mass_star = df['star_mass'][df['detection_type']=='Microlensing']\n",
    "mass_planet = df['mass'][df['detection_type']=='Microlensing']\n",
    "DL = df['star_distance']"
   ]
  },
  {
   "cell_type": "code",
   "execution_count": 13,
   "id": "75901cbe-c401-4a83-b6f0-b299caaf8e4a",
   "metadata": {
    "tags": []
   },
   "outputs": [],
   "source": [
    "# True and True and True"
   ]
  },
  {
   "cell_type": "code",
   "execution_count": 14,
   "id": "3dd5766e-e6a4-4c5e-8903-9c4ba5793748",
   "metadata": {
    "tags": []
   },
   "outputs": [],
   "source": [
    "# np.sqrt(-1)"
   ]
  },
  {
   "cell_type": "code",
   "execution_count": 36,
   "id": "503b4888-963f-4f21-ae51-95f44b3622ea",
   "metadata": {
    "tags": []
   },
   "outputs": [
    {
     "data": {
      "application/vnd.jupyter.widget-view+json": {
       "model_id": "5d5320caf9484ed78ff5e421ec9d2f14",
       "version_major": 2,
       "version_minor": 0
      },
      "text/plain": [
       "  0%|          | 0/7339 [00:00<?, ?it/s]"
      ]
     },
     "metadata": {},
     "output_type": "display_data"
    }
   ],
   "source": [
    "from tqdm.auto import tqdm\n",
    "from astropy import units as u\n",
    "from astropy import constants as const\n",
    "i=0\n",
    "# a = \n",
    "ang_sep={}\n",
    "mass_ratio = {}\n",
    "for i in tqdm(range(len(df))):\n",
    "    # print((not pd.isna(df['star_mass'].iloc[i])) and (not pd.isna(df['mass'].iloc[i])))\n",
    "    # if (not pd.isna(df['star_mass'].iloc[i])) and (not pd.isna(df['mass'].iloc[i])) and (not pd.isna(df['star_distance'].iloc[i])) and (not pd.isna(df['semi_major_axis'].iloc[i])):\n",
    "    mp = df['mass'].iloc[i]*u.M_jup\n",
    "    ms = df['star_mass'].iloc[i]*u.M_sun\n",
    "    m = mp+ms\n",
    "    q = mp/ms\n",
    "    mass_ratio[df['name'].iloc[i]]=q.decompose()\n",
    "\n",
    "    dl = df['star_distance'].iloc[i]*u.pc\n",
    "    ds = 8*u.kpc\n",
    "    pi_rel = abs(1/dl-1/ds)\n",
    "    a = df['semi_major_axis'][df['detection_type']=='Microlensing'].iloc[0]\n",
    "    k = 4*const.G/const.c**2\n",
    "    theta_E = (np.sqrt(k*m*pi_rel).decompose())*(u.rad.to('uas'))\n",
    "    alpha = (np.arctan(a*u.AU/dl).decompose()).to('uas').value\n",
    "    s =(alpha/theta_E).decompose()\n",
    "    # print(pi_rel)\n",
    "    ang_sep[df['name'].iloc[i]]=s\n",
    "        \n",
    "    # elif \n",
    "# print(ang_sep)\n",
    "\n",
    "df['alpha']=df['name'].map(ang_sep)\n",
    "df['mass_ratio']=df['name'].map(mass_ratio)\n",
    "# fit_rr['p_value'] = fit_rr['Source'].map(p_value_dict)"
   ]
  },
  {
   "cell_type": "code",
   "execution_count": 16,
   "id": "6885e057-fb3d-460d-ba13-ce6f22e9cbdb",
   "metadata": {
    "tags": []
   },
   "outputs": [],
   "source": [
    "# df['alpha'].values"
   ]
  },
  {
   "cell_type": "code",
   "execution_count": 17,
   "id": "0b38d0cf-7f60-4b82-a161-ad692f3cde1e",
   "metadata": {
    "tags": []
   },
   "outputs": [
    {
     "data": {
      "text/plain": [
       "0        1075.400000\n",
       "1           4.400000\n",
       "2       36336.700000\n",
       "3         326.030000\n",
       "4         516.220000\n",
       "            ...     \n",
       "7334        0.024600\n",
       "7335        0.054057\n",
       "7336        0.069789\n",
       "7337        0.043000\n",
       "7338        0.024000\n",
       "Name: orbital_period, Length: 7339, dtype: float64"
      ]
     },
     "execution_count": 17,
     "metadata": {},
     "output_type": "execute_result"
    }
   ],
   "source": [
    "df['orbital_period']"
   ]
  },
  {
   "cell_type": "code",
   "execution_count": 37,
   "id": "dc2052ec-b1c2-4773-9c7c-daa496f27b25",
   "metadata": {
    "tags": []
   },
   "outputs": [
    {
     "data": {
      "image/png": "[encoded data removed]",
      "text/plain": [
       "<Figure size 2000x400 with 5 Axes>"
      ]
     },
     "metadata": {},
     "output_type": "display_data"
    }
   ],
   "source": [
    "\n",
    "%matplotlib inline\n",
    "# Function to remove NaN values from both x and y arrays\n",
    "def filter_nan(x, y):\n",
    "    # Convert to numeric, forcing invalid values to NaN\n",
    "    x = pd.to_numeric(x, errors='coerce')\n",
    "    y = pd.to_numeric(y, errors='coerce')\n",
    "    \n",
    "    # Ensure data is converted to float (to avoid any type-related issues)\n",
    "    x = x.astype(float).to_numpy()\n",
    "    y = y.astype(float).to_numpy()\n",
    "    \n",
    "    # Create mask to filter out NaN values in both x and y\n",
    "    mask = ~np.isnan(x) & ~np.isnan(y)\n",
    "    return x[mask], y[mask]\n",
    "\n",
    "# Create subplots in a single row (1 row, 5 columns)\n",
    "fig, axes = plt.subplots(1, 5, figsize=(20, 4))\n",
    "\n",
    "C='royalblue'\n",
    "\n",
    "# Scatter plot 1: mass_ratio vs alpha\n",
    "x, y = filter_nan(df['mass_ratio'], df['alpha'])\n",
    "axes[0].scatter(np.log10(x), np.log10(y),color=C)\n",
    "axes[0].set_xlabel('mass_ratio')\n",
    "axes[0].set_ylabel('alpha')\n",
    "\n",
    "# Scatter plot 2: mass vs alpha\n",
    "x, y = filter_nan(df['mass'], df['alpha'])\n",
    "# print(len(y))\n",
    "axes[1].scatter(np.log10(x), np.log10(y),color=C)\n",
    "axes[1].set_xlabel('mass')\n",
    "axes[1].set_ylabel('alpha')\n",
    "\n",
    "# Scatter plot 3: star_mass vs alpha\n",
    "x, y = filter_nan(df['star_mass'], df['alpha'])\n",
    "axes[2].scatter(np.log10(x), np.log10(y),color=C)\n",
    "axes[2].set_xlabel('star_mass')\n",
    "axes[2].set_ylabel('alpha')\n",
    "\n",
    "# Scatter plot 4: orbital_period vs alpha\n",
    "x, y = filter_nan(df['orbital_period'], df['alpha'])\n",
    "axes[3].scatter(np.log10(x), np.log10(y),color=C)\n",
    "axes[3].set_xlabel('orbital_period')\n",
    "axes[3].set_ylabel('alpha')\n",
    "\n",
    "# Scatter plot 5: star_distance vs alpha\n",
    "x, y = filter_nan(df['star_distance'], df['alpha'])\n",
    "axes[4].scatter(np.log10(x), np.log10(y),color=C)\n",
    "axes[4].set_xlabel('star distance')\n",
    "axes[4].set_ylabel('alpha')\n",
    "\n",
    "# Adjust layout to prevent overlapping\n",
    "plt.tight_layout()\n",
    "plt.show()\n"
   ]
  },
  {
   "cell_type": "code",
   "execution_count": 50,
   "id": "ceb9624c-f6d0-42c7-a8a0-7eebd9c94c7b",
   "metadata": {
    "tags": []
   },
   "outputs": [
    {
     "data": {
      "image/png": "[encoded data removed]",
      "text/plain": [
       "<Figure size 2000x400 with 5 Axes>"
      ]
     },
     "metadata": {},
     "output_type": "display_data"
    }
   ],
   "source": [
    "import pandas as pd\n",
    "import numpy as np\n",
    "import matplotlib.pyplot as plt\n",
    "\n",
    "def filter_nan(x, y):\n",
    "    # Convert to numeric, forcing invalid values to NaN\n",
    "    x = pd.to_numeric(x, errors='coerce')\n",
    "    y = pd.to_numeric(y, errors='coerce')\n",
    "    \n",
    "    # Ensure data is converted to float (to avoid any type-related issues)\n",
    "    x = x.astype(float).to_numpy()\n",
    "    y = y.astype(float).to_numpy()\n",
    "    \n",
    "    # Create mask to filter out NaN values in both x and y\n",
    "    mask = ~np.isnan(x) & ~np.isnan(y)\n",
    "    return x[mask], y[mask], mask  # Return mask as well\n",
    "\n",
    "# Assume df is your DataFrame that includes the 'detection_type' column\n",
    "# Create subplots in a single row (1 row, 5 columns)\n",
    "fig, axes = plt.subplots(1, 5, figsize=(20, 4))\n",
    "\n",
    "# Create a color mapping based on the detection type\n",
    "colors = np.where(df['detection_type'] == 'Microlensing', 'blue', 'red')\n",
    "\n",
    "# Scatter plot 1: mass_ratio vs alpha\n",
    "x, y, mask = filter_nan(df['mass_ratio'], df['alpha'])\n",
    "axes[0].scatter(np.log10(x), np.log10(y), color=colors[mask], alpha=0.7)  # Apply colors\n",
    "axes[0].set_xlabel('q',fontsize=20)\n",
    "axes[0].set_ylabel('$LOG(\\\\alpha)$',fontsize=20)\n",
    "\n",
    "# Scatter plot 2: mass vs alpha\n",
    "x, y, mask = filter_nan(df['mass'], df['alpha'])\n",
    "axes[1].scatter(np.log10(x), np.log10(y), color=colors[mask], alpha=0.7)  # Apply colors\n",
    "axes[1].set_xlabel(r'$\\frac{M_{Lens}}{M_{jup}}$',fontsize=20)\n",
    "axes[1].set_ylabel('$LOG(\\\\alpha)$',fontsize=20)\n",
    "\n",
    "# Scatter plot 3: star_mass vs alpha\n",
    "x, y, mask = filter_nan(df['star_mass'], df['alpha'])\n",
    "axes[2].scatter(np.log10(x), np.log10(y), color=colors[mask], alpha=0.7)  # Apply colors\n",
    "axes[2].set_xlabel(r'$\\frac{M_{star}}{M_{\\odot}}$',fontsize=20)\n",
    "axes[2].set_ylabel('$LOG(\\\\alpha)$',fontsize=20)\n",
    "\n",
    "# Scatter plot 4: orbital_period vs alpha\n",
    "x, y, mask = filter_nan(df['orbital_period'], df['alpha'])\n",
    "axes[3].scatter(np.log10(x), np.log10(y), color=colors[mask], alpha=0.7)  # Apply colors\n",
    "axes[3].set_xlabel('P (days)',fontsize=20)\n",
    "axes[3].set_ylabel('$LOG(\\\\alpha)$',fontsize=20)\n",
    "\n",
    "# Scatter plot 5: star_distance vs alpha\n",
    "x, y, mask = filter_nan(df['star_distance'], df['alpha'])\n",
    "axes[4].scatter(np.log10(x), np.log10(y), color=colors[mask], alpha=0.7)  # Apply colors\n",
    "axes[4].set_xlabel('Star distance',fontsize=20)\n",
    "axes[4].set_ylabel('$LOG(\\\\alpha)$',fontsize=20)\n",
    "\n",
    "# Adjust layout to prevent overlapping\n",
    "plt.tight_layout()\n",
    "plt.show()\n"
   ]
  },
  {
   "cell_type": "code",
   "execution_count": 28,
   "id": "5c055c88-a6ca-476b-8cac-ae79d50bdb0f",
   "metadata": {
    "tags": []
   },
   "outputs": [],
   "source": [
    "# import matplotlib.pyplot as plt\n",
    "\n",
    "# # List of detection types\n",
    "# detection_types = [\n",
    "#     'Astrometry', 'Astrometry, Radial Velocity', 'Imaging', 'Imaging, Astrometry',\n",
    "#     'Imaging, Kinematic', 'Imaging, Other', 'Imaging, Other, Astrometry',\n",
    "#     'Imaging, Other, Kinematic', 'Imaging, Primary Transit',\n",
    "#     'Imaging, Radial Velocity, Astrometry', 'Kinematic, Other', 'Microlensing',\n",
    "#     'Other', 'Other, Imaging', 'Other, Imaging, Kinematic', 'Other, Kinematic',\n",
    "#     'Other, Radial Velocity', 'Primary Transit', 'Primary Transit, Astrometry',\n",
    "#     'Primary Transit, Radial Velocity', 'Primary Transit, TTV', 'Radial Velocity',\n",
    "#     'Radial Velocity, Astrometry', 'Radial Velocity, Imaging',\n",
    "#     'Radial Velocity, Primary Transit', 'Radial Velocity, Timing', 'TTV', 'Timing',\n",
    "#     'Timing, Astrometry', 'Timing, Kinematic', 'Timing, Other'\n",
    "# ]\n",
    "\n",
    "# # Function to assign color based on detection type\n",
    "# def get_color(detection_type):\n",
    "#     if 'Microlensing' in detection_type:\n",
    "#         return 'red'\n",
    "#     else:\n",
    "#         return 'blue'\n",
    "\n",
    "# # Create a list of colors for each detection type\n",
    "# colors = [get_color(detection) for detection in detection_types]\n",
    "\n",
    "# # Plotting\n",
    "# plt.figure(figsize=(10, 8))\n",
    "# plt.barh(detection_types, [1] * len(detection_types), color=colors)\n",
    "# plt.xlabel('Detection Types')\n",
    "# plt.title('Detection Types Colored by Microlensing (Red) vs Others (Blue)')\n",
    "# plt.show()\n"
   ]
  },
  {
   "cell_type": "code",
   "execution_count": null,
   "id": "4e86cac0-9b5e-4f74-81c0-8fcb0abbd274",
   "metadata": {
    "tags": []
   },
   "outputs": [],
   "source": [
    "# plt.scatter(df['mass_ratio'],df['alpha'])\n",
    "# plt.scatter(df['mass'],df['alpha'])\n",
    "# plt.scatter(df['star_mass'],df['alpha'])\n",
    "# plt.scatter(df['orbital_period'],df['alpha'])\n",
    "# plt.scatter(df['star_distance'],df['alpha'])\n",
    "\n",
    "# plt.xscale(\"log\")"
   ]
  },
  {
   "cell_type": "code",
   "execution_count": 286,
   "id": "32c90910-8de2-4ffb-adcb-b72d129d48f7",
   "metadata": {
    "tags": []
   },
   "outputs": [],
   "source": [
    "# import matplotlib.pyplot as plt\n",
    "# import numpy as np\n",
    "# from astropy import constants as const\n",
    "# from astropy import units as u\n",
    "# import math\n",
    "# from astropy.constants import c, L_sun, sigma_sb, M_jup, M_earth\n",
    "# plt.scatter(np.log10(P),np.log10(a))\n"
   ]
  },
  {
   "cell_type": "code",
   "execution_count": 33,
   "id": "0a9c3894-f3e8-4787-907c-17a6703a3bc6",
   "metadata": {
    "tags": []
   },
   "outputs": [
    {
     "data": {
      "text/html": [
       "<div>\n",
       "<style scoped>\n",
       "    .dataframe tbody tr th:only-of-type {\n",
       "        vertical-align: middle;\n",
       "    }\n",
       "\n",
       "    .dataframe tbody tr th {\n",
       "        vertical-align: top;\n",
       "    }\n",
       "\n",
       "    .dataframe thead th {\n",
       "        text-align: right;\n",
       "    }\n",
       "</style>\n",
       "<table border=\"1\" class=\"dataframe\">\n",
       "  <thead>\n",
       "    <tr style=\"text-align: right;\">\n",
       "      <th></th>\n",
       "      <th>pl_name</th>\n",
       "      <th>rastr</th>\n",
       "      <th>ra</th>\n",
       "      <th>decstr</th>\n",
       "      <th>dec</th>\n",
       "      <th>pl_massj</th>\n",
       "      <th>pl_massjerr1</th>\n",
       "      <th>pl_massjerr2</th>\n",
       "      <th>pl_massjlim</th>\n",
       "      <th>pl_masse</th>\n",
       "      <th>...</th>\n",
       "      <th>ml_radeinang</th>\n",
       "      <th>ml_radeinangerr1</th>\n",
       "      <th>ml_radeinangerr2</th>\n",
       "      <th>ml_radeinanglim</th>\n",
       "      <th>ml_pmrells</th>\n",
       "      <th>ml_pmrellserr1</th>\n",
       "      <th>ml_pmrellserr2</th>\n",
       "      <th>ml_pmrellslim</th>\n",
       "      <th>ml_modeldef</th>\n",
       "      <th>htmllink</th>\n",
       "    </tr>\n",
       "  </thead>\n",
       "  <tbody>\n",
       "    <tr>\n",
       "      <th>0</th>\n",
       "      <td>KMT-2019-BLG-1953L b</td>\n",
       "      <td>17h56m27.90s</td>\n",
       "      <td>269.116250</td>\n",
       "      <td>-28d12m04.00s</td>\n",
       "      <td>-28.201111</td>\n",
       "      <td>NaN</td>\n",
       "      <td>NaN</td>\n",
       "      <td>NaN</td>\n",
       "      <td>0.0</td>\n",
       "      <td>NaN</td>\n",
       "      <td>...</td>\n",
       "      <td>0.250</td>\n",
       "      <td>0.020</td>\n",
       "      <td>-0.020</td>\n",
       "      <td>0.0</td>\n",
       "      <td>5.70</td>\n",
       "      <td>0.46</td>\n",
       "      <td>-0.46</td>\n",
       "      <td>0.0</td>\n",
       "      <td>0</td>\n",
       "      <td>&lt;a refstr=HAN_ET_AL__2020 href=https://ui.adsa...</td>\n",
       "    </tr>\n",
       "    <tr>\n",
       "      <th>1</th>\n",
       "      <td>MOA-2013-BLG-605L b</td>\n",
       "      <td>17h58m42.85s</td>\n",
       "      <td>272.019257</td>\n",
       "      <td>-29d23m53.66s</td>\n",
       "      <td>-29.731583</td>\n",
       "      <td>0.06475</td>\n",
       "      <td>0.0018</td>\n",
       "      <td>-0.021</td>\n",
       "      <td>0.0</td>\n",
       "      <td>20.58</td>\n",
       "      <td>...</td>\n",
       "      <td>0.503</td>\n",
       "      <td>0.034</td>\n",
       "      <td>-0.034</td>\n",
       "      <td>0.0</td>\n",
       "      <td>9.03</td>\n",
       "      <td>0.63</td>\n",
       "      <td>-0.63</td>\n",
       "      <td>0.0</td>\n",
       "      <td>0</td>\n",
       "      <td>&lt;a refstr=SUMI_ET_AL__2016 href=https://ui.ads...</td>\n",
       "    </tr>\n",
       "    <tr>\n",
       "      <th>2</th>\n",
       "      <td>KMT-2019-BLG-1953L b</td>\n",
       "      <td>17h56m27.90s</td>\n",
       "      <td>269.116250</td>\n",
       "      <td>-28d12m04.00s</td>\n",
       "      <td>-28.201111</td>\n",
       "      <td>NaN</td>\n",
       "      <td>NaN</td>\n",
       "      <td>NaN</td>\n",
       "      <td>0.0</td>\n",
       "      <td>NaN</td>\n",
       "      <td>...</td>\n",
       "      <td>0.250</td>\n",
       "      <td>0.020</td>\n",
       "      <td>-0.020</td>\n",
       "      <td>0.0</td>\n",
       "      <td>5.70</td>\n",
       "      <td>0.46</td>\n",
       "      <td>-0.46</td>\n",
       "      <td>0.0</td>\n",
       "      <td>0</td>\n",
       "      <td>&lt;a refstr=HAN_ET_AL__2020 href=https://ui.adsa...</td>\n",
       "    </tr>\n",
       "    <tr>\n",
       "      <th>3</th>\n",
       "      <td>OGLE-2005-BLG-390L b</td>\n",
       "      <td>17h54m19.2s</td>\n",
       "      <td>268.579958</td>\n",
       "      <td>-30d22m38s</td>\n",
       "      <td>-30.377306</td>\n",
       "      <td>0.01700</td>\n",
       "      <td>0.0170</td>\n",
       "      <td>-0.009</td>\n",
       "      <td>0.0</td>\n",
       "      <td>5.50</td>\n",
       "      <td>...</td>\n",
       "      <td>NaN</td>\n",
       "      <td>NaN</td>\n",
       "      <td>NaN</td>\n",
       "      <td>NaN</td>\n",
       "      <td>NaN</td>\n",
       "      <td>NaN</td>\n",
       "      <td>NaN</td>\n",
       "      <td>NaN</td>\n",
       "      <td>1</td>\n",
       "      <td>&lt;a refstr=BEAULIEU_ET_AL__2006 href=https://ui...</td>\n",
       "    </tr>\n",
       "    <tr>\n",
       "      <th>4</th>\n",
       "      <td>OGLE-2012-BLG-0950L b</td>\n",
       "      <td>18h08m04.62s</td>\n",
       "      <td>272.019257</td>\n",
       "      <td>-29d43m53.7s</td>\n",
       "      <td>-29.731583</td>\n",
       "      <td>0.11000</td>\n",
       "      <td>0.0300</td>\n",
       "      <td>-0.020</td>\n",
       "      <td>0.0</td>\n",
       "      <td>36.00</td>\n",
       "      <td>...</td>\n",
       "      <td>0.860</td>\n",
       "      <td>0.150</td>\n",
       "      <td>-0.060</td>\n",
       "      <td>0.0</td>\n",
       "      <td>4.60</td>\n",
       "      <td>0.90</td>\n",
       "      <td>-0.30</td>\n",
       "      <td>0.0</td>\n",
       "      <td>0</td>\n",
       "      <td>&lt;a refstr=KOSHIMOTO_ET_AL__2017 href=https://u...</td>\n",
       "    </tr>\n",
       "  </tbody>\n",
       "</table>\n",
       "<p>5 rows × 75 columns</p>\n",
       "</div>"
      ],
      "text/plain": [
       "                 pl_name         rastr          ra         decstr        dec  \\\n",
       "0   KMT-2019-BLG-1953L b  17h56m27.90s  269.116250  -28d12m04.00s -28.201111   \n",
       "1    MOA-2013-BLG-605L b  17h58m42.85s  272.019257  -29d23m53.66s -29.731583   \n",
       "2   KMT-2019-BLG-1953L b  17h56m27.90s  269.116250  -28d12m04.00s -28.201111   \n",
       "3   OGLE-2005-BLG-390L b   17h54m19.2s  268.579958     -30d22m38s -30.377306   \n",
       "4  OGLE-2012-BLG-0950L b  18h08m04.62s  272.019257   -29d43m53.7s -29.731583   \n",
       "\n",
       "   pl_massj  pl_massjerr1  pl_massjerr2  pl_massjlim  pl_masse  ...  \\\n",
       "0       NaN           NaN           NaN          0.0       NaN  ...   \n",
       "1   0.06475        0.0018        -0.021          0.0     20.58  ...   \n",
       "2       NaN           NaN           NaN          0.0       NaN  ...   \n",
       "3   0.01700        0.0170        -0.009          0.0      5.50  ...   \n",
       "4   0.11000        0.0300        -0.020          0.0     36.00  ...   \n",
       "\n",
       "   ml_radeinang  ml_radeinangerr1  ml_radeinangerr2  ml_radeinanglim  \\\n",
       "0         0.250             0.020            -0.020              0.0   \n",
       "1         0.503             0.034            -0.034              0.0   \n",
       "2         0.250             0.020            -0.020              0.0   \n",
       "3           NaN               NaN               NaN              NaN   \n",
       "4         0.860             0.150            -0.060              0.0   \n",
       "\n",
       "   ml_pmrells  ml_pmrellserr1  ml_pmrellserr2  ml_pmrellslim  ml_modeldef  \\\n",
       "0        5.70            0.46           -0.46            0.0            0   \n",
       "1        9.03            0.63           -0.63            0.0            0   \n",
       "2        5.70            0.46           -0.46            0.0            0   \n",
       "3         NaN             NaN             NaN            NaN            1   \n",
       "4        4.60            0.90           -0.30            0.0            0   \n",
       "\n",
       "                                            htmllink  \n",
       "0  <a refstr=HAN_ET_AL__2020 href=https://ui.adsa...  \n",
       "1  <a refstr=SUMI_ET_AL__2016 href=https://ui.ads...  \n",
       "2  <a refstr=HAN_ET_AL__2020 href=https://ui.adsa...  \n",
       "3  <a refstr=BEAULIEU_ET_AL__2006 href=https://ui...  \n",
       "4  <a refstr=KOSHIMOTO_ET_AL__2017 href=https://u...  \n",
       "\n",
       "[5 rows x 75 columns]"
      ]
     },
     "metadata": {},
     "output_type": "display_data"
    },
    {
     "data": {
      "text/plain": [
       "Index(['pl_name', 'rastr', 'ra', 'decstr', 'dec', 'pl_massj', 'pl_massjerr1',\n",
       "       'pl_massjerr2', 'pl_massjlim', 'pl_masse', 'pl_masseerr1',\n",
       "       'pl_masseerr2', 'pl_masselim', 'pl_orbsmax', 'pl_orbsmaxerr1',\n",
       "       'pl_orbsmaxerr2', 'pl_orbsmaxlim', 'st_mass', 'st_masserr1',\n",
       "       'st_masserr2', 'st_masslim', 'sy_dist', 'sy_disterr1', 'sy_disterr2',\n",
       "       'sy_distlim', 'ml_dists', 'ml_distserr1', 'ml_distserr2', 'ml_distslim',\n",
       "       'ml_tsepmin', 'ml_tsepminerr1', 'ml_tsepminerr2', 'ml_tsepminlim',\n",
       "       'ml_sepminnorm', 'ml_sepminnormerr1', 'ml_sepminnormerr2',\n",
       "       'ml_sepminnormlim', 'ml_xtimeein', 'ml_xtimeeinerr1', 'ml_xtimeeinerr2',\n",
       "       'ml_xtimeeinlim', 'ml_radsnorm', 'ml_radsnormerr1', 'ml_radsnormerr2',\n",
       "       'ml_radsnormlim', 'ml_sepinsnorp', 'ml_sepinsnorperr1',\n",
       "       'ml_sepinsnorperr2', 'ml_sepinsnorplim', 'ml_massratio',\n",
       "       'ml_massratioerr1', 'ml_massratioerr2', 'ml_massratiolim',\n",
       "       'ml_angstlax', 'ml_angstlaxerr1', 'ml_angstlaxerr2', 'ml_angstlaxlim',\n",
       "       'ml_magis', 'ml_magiserr1', 'ml_magiserr2', 'ml_magislim', 'ml_magibl',\n",
       "       'ml_magiblerr1', 'ml_magiblerr2', 'ml_magibllim', 'ml_radeinang',\n",
       "       'ml_radeinangerr1', 'ml_radeinangerr2', 'ml_radeinanglim', 'ml_pmrells',\n",
       "       'ml_pmrellserr1', 'ml_pmrellserr2', 'ml_pmrellslim', 'ml_modeldef',\n",
       "       'htmllink'],\n",
       "      dtype='object')"
      ]
     },
     "execution_count": 33,
     "metadata": {},
     "output_type": "execute_result"
    }
   ],
   "source": [
    "import pandas as pd\n",
    "# File path\n",
    "file_path = \"ML_2024.10.15_10.57.52.csv\"\n",
    "# Reading the CSV file with proper handling of quotes and commas\n",
    "df = pd.read_csv(file_path, quotechar='\"', comment='#', skipinitialspace=True)\n",
    "# Display the dataframe to check if it's read correctly\n",
    "display(df.head())\n",
    "df.columns"
   ]
  },
  {
   "cell_type": "code",
   "execution_count": 34,
   "id": "90f7de75-6cfb-45b2-a169-5361949bdd4a",
   "metadata": {
    "tags": []
   },
   "outputs": [
    {
     "data": {
      "text/plain": [
       "0      0.001910\n",
       "1      0.000312\n",
       "2      0.001820\n",
       "3      0.000076\n",
       "4      0.000190\n",
       "         ...   \n",
       "736    0.001360\n",
       "737    0.000071\n",
       "738    0.000057\n",
       "739    0.001090\n",
       "740    0.000098\n",
       "Name: ml_massratio, Length: 741, dtype: float64"
      ]
     },
     "execution_count": 34,
     "metadata": {},
     "output_type": "execute_result"
    }
   ],
   "source": [
    "df['ml_massratio']=df['ml_massratio']*1e-4\n",
    "df['ml_massratio']"
   ]
  },
  {
   "cell_type": "code",
   "execution_count": null,
   "id": "803e562d-8440-40ce-b6da-e2cc0f7466a7",
   "metadata": {},
   "outputs": [],
   "source": []
  },
  {
   "cell_type": "code",
   "execution_count": 75,
   "id": "69b98274-835e-4f8c-b6c3-730725fa1b9b",
   "metadata": {
    "tags": []
   },
   "outputs": [
    {
     "data": {
      "application/vnd.jupyter.widget-view+json": {
       "model_id": "e344411c3a324229a78f7b05bb86c197",
       "version_major": 2,
       "version_minor": 0
      },
      "text/plain": [
       "  0%|          | 0/741 [00:00<?, ?it/s]"
      ]
     },
     "metadata": {},
     "output_type": "display_data"
    }
   ],
   "source": [
    "\n",
    "# len(df)\n",
    "\n",
    "# DS\n",
    "# df\n",
    "\n",
    "from tqdm.auto import tqdm\n",
    "i=0\n",
    "# a = \n",
    "ang_sep={}\n",
    "mass_ratio = {}\n",
    "mass_star = {}\n",
    "for i in tqdm(range(len(df))):\n",
    "    mp = df['pl_massj'].iloc[i]*u.M_jup\n",
    "    m = df['st_mass'].iloc[i]*u.M_sun#mp+ms\n",
    "    q = df['ml_massratio'].iloc[i]#mp/ms\n",
    "    m_star = m/(1+q)\n",
    "    \n",
    "    mass_star['pl_name']=m_star\n",
    "    ds = df['ml_dists'].iloc[i]*u.pc\n",
    "    dl = df['sy_dist'].iloc[i]*u.pc\n",
    "    a = df['pl_orbsmax'].iloc[i]*u.AU#df['semi_major_axis'][df['detection_type']=='Microlensing'].iloc[0]\n",
    "    k = 4*const.G/const.c**2\n",
    "    \n",
    "    pi_rel=1/dl-1/ds\n",
    "    theta_E = (np.sqrt(k*m*pi_rel)*u.rad.to('mas')).decompose()\n",
    "    # print(theta_E.decompose())\n",
    "    # print(ds)\n",
    "    # theta_E = df['ml_radeinang'].iloc[i]#(np.sqrt(k*m*pi_rel).decompose())*(u.rad.to('uas'))\n",
    "    alpha = (np.arctan(a/dl).decompose()).to('mas').value\n",
    "    \n",
    "    s = alpha/theta_E\n",
    "    # print(s)\n",
    "    ang_sep[df['pl_name'].iloc[i]]=s\n",
    "        \n",
    "    # elif \n",
    "# print(ang_sep)\n",
    "\n",
    "df['alpha']=df['pl_name'].map(ang_sep)\n",
    "df['mass_ratio']=df['pl_name'].map(mass_ratio)"
   ]
  },
  {
   "cell_type": "code",
   "execution_count": 73,
   "id": "2f1c913a-0806-4eb5-a782-8c553d1ebc04",
   "metadata": {
    "tags": []
   },
   "outputs": [],
   "source": [
    "# set(df['alpha'])"
   ]
  },
  {
   "cell_type": "code",
   "execution_count": 83,
   "id": "25909edf-d440-4765-9583-8e4e641126f4",
   "metadata": {
    "tags": []
   },
   "outputs": [
    {
     "data": {
      "text/plain": [
       "array(['109 Psc b', '112 Psc b', '112 Psc c', ..., 'ZTF J1622+47 b',\n",
       "       'ZTF J1637+49 b', 'ZTF J2252-05 b'], dtype=object)"
      ]
     },
     "execution_count": 83,
     "metadata": {},
     "output_type": "execute_result"
    }
   ],
   "source": [
    "\n",
    "file_path = \"/home/anibal/Downloads/ML_2024.10.15_10.57.52.csv\"\n",
    "df2 = pd.read_csv(file_path, quotechar='\"', comment='#', skipinitialspace=True)['pl_name'].values\n",
    "file_path = \"/home/anibal/Downloads/exoplanets_eu.csv\"\n",
    "df = pd.read_csv(file_path, quotechar='\"', skipinitialspace=True)['name'].values\n",
    "# df2\n",
    "# df"
   ]
  },
  {
   "cell_type": "code",
   "execution_count": 87,
   "id": "02581483-6de1-47ac-b0de-a86ab184ba56",
   "metadata": {
    "tags": []
   },
   "outputs": [
    {
     "name": "stdout",
     "output_type": "stream",
     "text": [
      "Repeated events: {'MOA-2008-BLG-310L b', 'OGLE-2016-BLG-1093L b', 'OGLE-2013-BLG-0911L b', 'OGLE-2017-BLG-0173L b', 'OGLE-2005-BLG-169L b', 'OGLE-2015-BLG-0051L b', 'MOA-2022-BLG-249L b', 'OGLE-2014-BLG-0676L b', 'MOA-2011-BLG-293L b', 'KMT-2023-BLG-1431L b', 'KMT-2021-BLG-1077L b', 'OGLE-2007-BLG-368L b', 'OGLE-2016-BLG-1067L b', 'MOA-2011-BLG-028L b', 'OGLE-2018-BLG-1269L b', 'OGLE-2015-BLG-1771L b', 'MOA-2008-BLG-379L b', 'MOA-2013-BLG-605L b', 'MOA-2010-BLG-073L b', 'OGLE-2012-BLG-0026L b', 'OGLE-2012-BLG-0358L b', 'OGLE-2017-BLG-1691L b', 'OGLE-2018-BLG-0677L b', 'OGLE-2018-BLG-1428L b', 'K2-2016-BLG-0005L b', 'KMT-2021-BLG-1077L c', 'OGLE-2018-BLG-1011L b', 'KMT-2018-BLG-1990L b', 'OGLE-2013-BLG-1761L b', 'KMT-2021-BLG-1150L b', 'KMT-2021-BLG-1689L b', 'OGLE-2013-BLG-0102L b', 'MOA-2016-BLG-319L b', 'MOA-2011-BLG-262L b', 'MOA-2009-BLG-387L b', 'OGLE-2019-BLG-0954L b', 'OGLE-2011-BLG-0173L b', 'OGLE-2005-BLG-071L b', 'KMT-2016-BLG-1836L b', 'OGLE-2012-BLG-0950L b', 'KMT-2018-BLG-1292L b', 'OGLE-2018-BLG-0567L b', 'KMT-2022-BLG-0440L b', 'MOA-2011-BLG-322L b', 'OGLE-2015-BLG-0954L b', 'KMT-2018-BLG-1976L b', 'OGLE-2005-BLG-390L b', 'OGLE-2018-BLG-1011L c', 'MOA-2010-BLG-477L b', 'OGLE-2016-BLG-1195L b', 'MOA-2013-BLG-220L b', 'OGLE-2019-BLG-1180L b', 'KMT-2021-BLG-0171L b', 'KMT-2018-BLG-1025L b', 'OGLE-2018-BLG-0740L b', 'OGLE-2017-BLG-0373L b', 'OGLE-2014-BLG-0124L b', 'OGLE-2011-BLG-0265L b', 'OGLE-2016-BLG-0263L b', 'OGLE-2011-BLG-0251L b', 'OGLE-2019-BLG-1053L b', 'MOA-2007-BLG-400L b', 'MOA-2019-BLG-008L b', 'KMT-2018-BLG-1996L b', 'KMT-2017-BLG-0673L b', 'OGLE-2012-BLG-0026L c', 'OGLE-2019-BLG-0468L c', 'OGLE-2012-BLG-0406L b', 'KMT-2018-BLG-1988L b', 'KMT-2017-BLG-0165L b', 'MOA-2016-BLG-227L b', 'OGLE-2019-BLG-0468L b', 'OGLE-2014-BLG-1722L c', 'KMT-2021-BLG-1547L b', 'MOA-bin-1L b', 'KMT-2020-BLG-0414L b', 'OGLE-2017-BLG-1434L b', 'MOA-2007-BLG-192L b', 'OGLE-2013-BLG-1721L b', 'OGLE-2016-BLG-1190L b', 'OGLE-2017-BLG-1140L b', 'OGLE-2014-BLG-1760L b', 'OGLE-2012-BLG-0724L b', 'OGLE-2013-BLG-0132L b', 'MOA-2010-BLG-353L b', 'OGLE-2015-BLG-0966L b', 'OGLE-2018-BLG-1700L b', 'MOA-2009-BLG-319L b', 'MOA-2010-BLG-328L b', 'MOA-2012-BLG-505L b', 'OGLE-2014-BLG-1722L b', 'MOA-bin-29 b', 'KMT-2019-BLG-0414L b', 'KMT-2020-BLG-0414L c', 'OGLE-2015-BLG-1670L b', 'KMT-2019-BLG-1953L b', 'OGLE-2017-BLG-1522L b', 'OGLE-2014-BLG-0221L b', 'OGLE-2003-BLG-235L b', 'MOA-2009-BLG-266L b', 'OGLE-2012-BLG-0563L b', 'OGLE-2008-BLG-355L b', 'OGLE-2018-BLG-0799L b'}\n",
      "Number of events: 103\n"
     ]
    }
   ],
   "source": [
    "# Convert the arrays to sets and find the intersection\n",
    "repeated_strings = set(df2) & set(df)\n",
    "\n",
    "# Print the result\n",
    "print(f\"Repeated events: {repeated_strings}\")\n",
    "\n",
    "print(f\"Number of events: {len(repeated_strings)}\")"
   ]
  }
 ],
 "metadata": {
  "kernelspec": {
   "display_name": "Python 3 (ipykernel)",
   "language": "python",
   "name": "python3"
  },
  "language_info": {
   "codemirror_mode": {
    "name": "ipython",
    "version": 3
   },
   "file_extension": ".py",
   "mimetype": "text/x-python",
   "name": "python",
   "nbconvert_exporter": "python",
   "pygments_lexer": "ipython3",
   "version": "3.11.5"
  }
 },
 "nbformat": 4,
 "nbformat_minor": 5
}
